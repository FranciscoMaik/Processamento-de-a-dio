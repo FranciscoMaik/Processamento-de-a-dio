{
  "nbformat": 4,
  "nbformat_minor": 0,
  "metadata": {
    "colab": {
      "name": "ballroom_metadata_analysis.ipynb",
      "provenance": [],
      "collapsed_sections": [],
      "toc_visible": true,
      "include_colab_link": true
    },
    "kernelspec": {
      "name": "python3",
      "display_name": "Python 3"
    }
  },
  "cells": [
    {
      "cell_type": "markdown",
      "metadata": {
        "id": "view-in-github",
        "colab_type": "text"
      },
      "source": [
        "<a href=\"https://colab.research.google.com/github/alexwilliam1/Processamento_de_audio/blob/master/ballroom_metadata_analysis.ipynb\" target=\"_parent\"><img src=\"https://colab.research.google.com/assets/colab-badge.svg\" alt=\"Open In Colab\"/></a>"
      ]
    },
    {
      "cell_type": "markdown",
      "metadata": {
        "id": "MHj-qDgCaZUH",
        "colab_type": "text"
      },
      "source": [
        "\n",
        "#### Importações"
      ]
    },
    {
      "cell_type": "code",
      "metadata": {
        "id": "2u4naXBXfGW_",
        "colab_type": "code",
        "colab": {
          "base_uri": "https://localhost:8080/",
          "height": 54
        },
        "outputId": "9585127e-b325-45fa-d031-d6cd56d63ea8"
      },
      "source": [
        "from google.colab import drive\n",
        "drive.mount('/content/drive')"
      ],
      "execution_count": null,
      "outputs": [
        {
          "output_type": "stream",
          "text": [
            "Drive already mounted at /content/drive; to attempt to forcibly remount, call drive.mount(\"/content/drive\", force_remount=True).\n"
          ],
          "name": "stdout"
        }
      ]
    },
    {
      "cell_type": "code",
      "metadata": {
        "id": "-DqkBafCO26-",
        "colab_type": "code",
        "colab": {}
      },
      "source": [
        "import numpy as np\n",
        "import pandas as pd\n",
        "import glob\n",
        "import wave\n",
        "from tqdm import tqdm\n",
        "import matplotlib.pyplot as plt\n",
        "# import os\n",
        "# from scipy.io import wavfile as wav\n",
        "# import struct"
      ],
      "execution_count": null,
      "outputs": []
    },
    {
      "cell_type": "markdown",
      "metadata": {
        "id": "71iiL-jzakIl",
        "colab_type": "text"
      },
      "source": [
        "#### Carregar base"
      ]
    },
    {
      "cell_type": "code",
      "metadata": {
        "id": "RORHxPMiP-Ia",
        "colab_type": "code",
        "colab": {}
      },
      "source": [
        "dataset_path = '/content/drive/My Drive/BallroomExtended'\n",
        "\n",
        "ballroom_metadata = []"
      ],
      "execution_count": null,
      "outputs": []
    },
    {
      "cell_type": "markdown",
      "metadata": {
        "id": "7rX1GidlaxE1",
        "colab_type": "text"
      },
      "source": [
        "#### Ler audios e extrair caracteristicas"
      ]
    },
    {
      "cell_type": "code",
      "metadata": {
        "id": "yCGE9Z8dRBa7",
        "colab_type": "code",
        "colab": {}
      },
      "source": [
        "def metadata_generator(dataset_path):\n",
        "    path_folders = glob.glob(dataset_path + '/' + '*')\n",
        "    \n",
        "    print(path_folders)\n",
        "    \n",
        "    for fold_ in path_folders:\n",
        "        path_classes = glob.glob(fold_ + '/' + '*')\n",
        "        \n",
        "        print(path_classes)\n",
        "        \n",
        "        #capturando o nome do set e a qual o audio pertence: treino ou teste\n",
        "        Base = fold_.split('/')[-1]\n",
        "    \n",
        "        class_id = 0\n",
        "        audio_class = []\n",
        "        \n",
        "        for class_ in tqdm(path_classes): \n",
        "            \n",
        "            class_id += 1\n",
        "            \n",
        "            #capturando o nome das classes\n",
        "            class_name = class_.split('/')[-1]\n",
        "\n",
        "            path_audios = glob.glob(class_ + '/' + '*')\n",
        "\n",
        "            for audio_ in path_audios: \n",
        "                             \n",
        "                #capturando o nome das classes\n",
        "                audio_name = audio_.split('/')[-1]\n",
        "\n",
        "                opened_audio = wave.open(audio_, \"rb\").getparams()\n",
        "                \n",
        "\n",
        "                #Wave_read.getparams()\n",
        "                #Returns a namedtuple() \n",
        "                #(nchannels, sampwidth, framerate, nframes, comptype, compname), equivalent to output of the get*() methods.\n",
        "                #opened_audio[0] = Número de canais\n",
        "                #opened_audio[1] = Largura da amostra em bytes\n",
        "                #opened_audio[2] = Taxa de frequência\n",
        "                #opened_audio[3] = Número de frames\n",
        "\n",
        "\n",
        "                rate = opened_audio[2]\n",
        "                duration = opened_audio[3]/opened_audio[2]\n",
        "                n_channels = opened_audio[0]\n",
        "                \n",
        "                bit_depth = opened_audio[1]**4 #conversão de bytes para bits \n",
        "                \n",
        "                # audio = open(audio_path,\"rb\")\n",
        "                # buffer_header = audio.read(44) #vamos ler todo o cabeçalho do arquivo \n",
        "                # bit_depth = struct.unpack('<H', buffer_header[34:36])[0]  \n",
        "                \n",
        "\n",
        "                audio_class = [audio_name, class_id, class_name, Base, duration, rate, n_channels, bit_depth]\n",
        "\n",
        "                ballroom_metadata.append(audio_class)\n",
        "    \n",
        "    return ballroom_metadata"
      ],
      "execution_count": null,
      "outputs": []
    },
    {
      "cell_type": "code",
      "metadata": {
        "id": "cwXqVso1T9Nv",
        "colab_type": "code",
        "colab": {
          "base_uri": "https://localhost:8080/",
          "height": 190
        },
        "outputId": "799f26ab-cadf-4fc5-948c-bb336267468e"
      },
      "source": [
        "metadata = metadata_generator(dataset_path)"
      ],
      "execution_count": null,
      "outputs": [
        {
          "output_type": "stream",
          "text": [
            "0it [00:00, ?it/s]\n",
            "  0%|          | 0/13 [00:00<?, ?it/s]"
          ],
          "name": "stderr"
        },
        {
          "output_type": "stream",
          "text": [
            "['/content/drive/My Drive/BallroomExtended/ballroomExtended_metadata.csv', '/content/drive/My Drive/BallroomExtended/Tests', '/content/drive/My Drive/BallroomExtended/Train']\n",
            "[]\n",
            "['/content/drive/My Drive/BallroomExtended/Tests/Slowwaltz', '/content/drive/My Drive/BallroomExtended/Tests/Samba', '/content/drive/My Drive/BallroomExtended/Tests/Wcswing', '/content/drive/My Drive/BallroomExtended/Tests/Waltz', '/content/drive/My Drive/BallroomExtended/Tests/Tango', '/content/drive/My Drive/BallroomExtended/Tests/Viennesewaltz', '/content/drive/My Drive/BallroomExtended/Tests/Salsa', '/content/drive/My Drive/BallroomExtended/Tests/Rumba', '/content/drive/My Drive/BallroomExtended/Tests/Quickstep', '/content/drive/My Drive/BallroomExtended/Tests/Pasodoble', '/content/drive/My Drive/BallroomExtended/Tests/Jive', '/content/drive/My Drive/BallroomExtended/Tests/Chacha', '/content/drive/My Drive/BallroomExtended/Tests/Foxtrot']\n"
          ],
          "name": "stdout"
        },
        {
          "output_type": "stream",
          "text": [
            "100%|██████████| 13/13 [17:17<00:00, 79.81s/it]\n",
            "  0%|          | 0/13 [00:00<?, ?it/s]"
          ],
          "name": "stderr"
        },
        {
          "output_type": "stream",
          "text": [
            "['/content/drive/My Drive/BallroomExtended/Train/Waltz', '/content/drive/My Drive/BallroomExtended/Train/Rumba', '/content/drive/My Drive/BallroomExtended/Train/Viennesewaltz', '/content/drive/My Drive/BallroomExtended/Train/Wcswing', '/content/drive/My Drive/BallroomExtended/Train/Tango', '/content/drive/My Drive/BallroomExtended/Train/Slowwaltz', '/content/drive/My Drive/BallroomExtended/Train/Quickstep', '/content/drive/My Drive/BallroomExtended/Train/Samba', '/content/drive/My Drive/BallroomExtended/Train/Salsa', '/content/drive/My Drive/BallroomExtended/Train/Pasodoble', '/content/drive/My Drive/BallroomExtended/Train/Jive', '/content/drive/My Drive/BallroomExtended/Train/Chacha', '/content/drive/My Drive/BallroomExtended/Train/Foxtrot']\n"
          ],
          "name": "stdout"
        },
        {
          "output_type": "stream",
          "text": [
            "100%|██████████| 13/13 [58:13<00:00, 268.72s/it]\n"
          ],
          "name": "stderr"
        }
      ]
    },
    {
      "cell_type": "markdown",
      "metadata": {
        "id": "7f9RfDyubMku",
        "colab_type": "text"
      },
      "source": [
        "#### Gerar arquivo .csv"
      ]
    },
    {
      "cell_type": "code",
      "metadata": {
        "id": "TJ2AlN7CUQ5X",
        "colab_type": "code",
        "colab": {}
      },
      "source": [
        "# Salvando os metadados em um .csv\n",
        "os.chdir(dataset_path)\n",
        "header = \"AudioName,ClassID,Class,Base,Duration,FrameRate,Channels,Bits/A\"\n",
        "np.savetxt(\"NEW_ballroomExtended_metadata.csv\", metadata, delimiter=\",\", fmt=\"%s\", header=header)"
      ],
      "execution_count": null,
      "outputs": []
    },
    {
      "cell_type": "markdown",
      "metadata": {
        "id": "WNirEZHjdcLO",
        "colab_type": "text"
      },
      "source": [
        "# Análise dos Metadados"
      ]
    },
    {
      "cell_type": "markdown",
      "metadata": {
        "id": "xbTF2601bmZT",
        "colab_type": "text"
      },
      "source": [
        "#### Carregando metadados .csv"
      ]
    },
    {
      "cell_type": "code",
      "metadata": {
        "id": "w5wsTDO5cGlb",
        "colab_type": "code",
        "colab": {}
      },
      "source": [
        "metadata = pd.read_csv('/content/drive/My Drive/BallroomExtended/NEW_ballroomExtended_metadata.csv')"
      ],
      "execution_count": null,
      "outputs": []
    },
    {
      "cell_type": "markdown",
      "metadata": {
        "id": "u398TnpFcgrz",
        "colab_type": "text"
      },
      "source": [
        "#### Cabeçalho"
      ]
    },
    {
      "cell_type": "code",
      "metadata": {
        "id": "kQAY8zQEcjSE",
        "colab_type": "code",
        "colab": {
          "base_uri": "https://localhost:8080/",
          "height": 419
        },
        "outputId": "f73a439b-1f6a-4350-8798-a7f24bbc3c86"
      },
      "source": [
        "metadata"
      ],
      "execution_count": null,
      "outputs": [
        {
          "output_type": "execute_result",
          "data": {
            "text/html": [
              "<div>\n",
              "<style scoped>\n",
              "    .dataframe tbody tr th:only-of-type {\n",
              "        vertical-align: middle;\n",
              "    }\n",
              "\n",
              "    .dataframe tbody tr th {\n",
              "        vertical-align: top;\n",
              "    }\n",
              "\n",
              "    .dataframe thead th {\n",
              "        text-align: right;\n",
              "    }\n",
              "</style>\n",
              "<table border=\"1\" class=\"dataframe\">\n",
              "  <thead>\n",
              "    <tr style=\"text-align: right;\">\n",
              "      <th></th>\n",
              "      <th># AudioName</th>\n",
              "      <th>ClassID</th>\n",
              "      <th>Class</th>\n",
              "      <th>Base</th>\n",
              "      <th>Duration</th>\n",
              "      <th>FrameRate</th>\n",
              "      <th>Channels</th>\n",
              "      <th>Bits/A</th>\n",
              "    </tr>\n",
              "  </thead>\n",
              "  <tbody>\n",
              "    <tr>\n",
              "      <th>0</th>\n",
              "      <td>116401.wav</td>\n",
              "      <td>1</td>\n",
              "      <td>Slowwaltz</td>\n",
              "      <td>Tests</td>\n",
              "      <td>30.000000</td>\n",
              "      <td>48000</td>\n",
              "      <td>2</td>\n",
              "      <td>16</td>\n",
              "    </tr>\n",
              "    <tr>\n",
              "      <th>1</th>\n",
              "      <td>116402.wav</td>\n",
              "      <td>1</td>\n",
              "      <td>Slowwaltz</td>\n",
              "      <td>Tests</td>\n",
              "      <td>30.000000</td>\n",
              "      <td>48000</td>\n",
              "      <td>2</td>\n",
              "      <td>16</td>\n",
              "    </tr>\n",
              "    <tr>\n",
              "      <th>2</th>\n",
              "      <td>116403.wav</td>\n",
              "      <td>1</td>\n",
              "      <td>Slowwaltz</td>\n",
              "      <td>Tests</td>\n",
              "      <td>30.000000</td>\n",
              "      <td>48000</td>\n",
              "      <td>2</td>\n",
              "      <td>16</td>\n",
              "    </tr>\n",
              "    <tr>\n",
              "      <th>3</th>\n",
              "      <td>116405.wav</td>\n",
              "      <td>1</td>\n",
              "      <td>Slowwaltz</td>\n",
              "      <td>Tests</td>\n",
              "      <td>30.000000</td>\n",
              "      <td>48000</td>\n",
              "      <td>2</td>\n",
              "      <td>16</td>\n",
              "    </tr>\n",
              "    <tr>\n",
              "      <th>4</th>\n",
              "      <td>116404.wav</td>\n",
              "      <td>1</td>\n",
              "      <td>Slowwaltz</td>\n",
              "      <td>Tests</td>\n",
              "      <td>30.000000</td>\n",
              "      <td>48000</td>\n",
              "      <td>2</td>\n",
              "      <td>16</td>\n",
              "    </tr>\n",
              "    <tr>\n",
              "      <th>...</th>\n",
              "      <td>...</td>\n",
              "      <td>...</td>\n",
              "      <td>...</td>\n",
              "      <td>...</td>\n",
              "      <td>...</td>\n",
              "      <td>...</td>\n",
              "      <td>...</td>\n",
              "      <td>...</td>\n",
              "    </tr>\n",
              "    <tr>\n",
              "      <th>4175</th>\n",
              "      <td>118706.wav</td>\n",
              "      <td>13</td>\n",
              "      <td>Foxtrot</td>\n",
              "      <td>Train</td>\n",
              "      <td>29.988571</td>\n",
              "      <td>44100</td>\n",
              "      <td>2</td>\n",
              "      <td>16</td>\n",
              "    </tr>\n",
              "    <tr>\n",
              "      <th>4176</th>\n",
              "      <td>118708.wav</td>\n",
              "      <td>13</td>\n",
              "      <td>Foxtrot</td>\n",
              "      <td>Train</td>\n",
              "      <td>29.988571</td>\n",
              "      <td>44100</td>\n",
              "      <td>2</td>\n",
              "      <td>16</td>\n",
              "    </tr>\n",
              "    <tr>\n",
              "      <th>4177</th>\n",
              "      <td>118707.wav</td>\n",
              "      <td>13</td>\n",
              "      <td>Foxtrot</td>\n",
              "      <td>Train</td>\n",
              "      <td>29.988571</td>\n",
              "      <td>44100</td>\n",
              "      <td>2</td>\n",
              "      <td>16</td>\n",
              "    </tr>\n",
              "    <tr>\n",
              "      <th>4178</th>\n",
              "      <td>118709.wav</td>\n",
              "      <td>13</td>\n",
              "      <td>Foxtrot</td>\n",
              "      <td>Train</td>\n",
              "      <td>29.988571</td>\n",
              "      <td>44100</td>\n",
              "      <td>2</td>\n",
              "      <td>16</td>\n",
              "    </tr>\n",
              "    <tr>\n",
              "      <th>4179</th>\n",
              "      <td>118710.wav</td>\n",
              "      <td>13</td>\n",
              "      <td>Foxtrot</td>\n",
              "      <td>Train</td>\n",
              "      <td>29.988571</td>\n",
              "      <td>44100</td>\n",
              "      <td>2</td>\n",
              "      <td>16</td>\n",
              "    </tr>\n",
              "  </tbody>\n",
              "</table>\n",
              "<p>4180 rows × 8 columns</p>\n",
              "</div>"
            ],
            "text/plain": [
              "     # AudioName  ClassID      Class  ... FrameRate  Channels  Bits/A\n",
              "0     116401.wav        1  Slowwaltz  ...     48000         2      16\n",
              "1     116402.wav        1  Slowwaltz  ...     48000         2      16\n",
              "2     116403.wav        1  Slowwaltz  ...     48000         2      16\n",
              "3     116405.wav        1  Slowwaltz  ...     48000         2      16\n",
              "4     116404.wav        1  Slowwaltz  ...     48000         2      16\n",
              "...          ...      ...        ...  ...       ...       ...     ...\n",
              "4175  118706.wav       13    Foxtrot  ...     44100         2      16\n",
              "4176  118708.wav       13    Foxtrot  ...     44100         2      16\n",
              "4177  118707.wav       13    Foxtrot  ...     44100         2      16\n",
              "4178  118709.wav       13    Foxtrot  ...     44100         2      16\n",
              "4179  118710.wav       13    Foxtrot  ...     44100         2      16\n",
              "\n",
              "[4180 rows x 8 columns]"
            ]
          },
          "metadata": {
            "tags": []
          },
          "execution_count": 18
        }
      ]
    },
    {
      "cell_type": "markdown",
      "metadata": {
        "id": "euFtIpR2cx3J",
        "colab_type": "text"
      },
      "source": [
        "### Informações de Classe"
      ]
    },
    {
      "cell_type": "markdown",
      "metadata": {
        "id": "e7PgnYKjd5iF",
        "colab_type": "text"
      },
      "source": [
        "#### Nomes das classes"
      ]
    },
    {
      "cell_type": "code",
      "metadata": {
        "id": "ILk4lkjYc1SQ",
        "colab_type": "code",
        "colab": {
          "base_uri": "https://localhost:8080/",
          "height": 68
        },
        "outputId": "2dadd6e7-7411-46c9-becd-60601503fc40"
      },
      "source": [
        "pd.unique(metadata['Class'])"
      ],
      "execution_count": null,
      "outputs": [
        {
          "output_type": "execute_result",
          "data": {
            "text/plain": [
              "array(['Slowwaltz', 'Samba', 'Wcswing', 'Waltz', 'Tango', 'Viennesewaltz',\n",
              "       'Salsa', 'Rumba', 'Quickstep', 'Pasodoble', 'Jive', 'Chacha',\n",
              "       'Foxtrot'], dtype=object)"
            ]
          },
          "metadata": {
            "tags": []
          },
          "execution_count": 24
        }
      ]
    },
    {
      "cell_type": "markdown",
      "metadata": {
        "id": "jNxJP_sFeBcY",
        "colab_type": "text"
      },
      "source": [
        "#### Número de classes"
      ]
    },
    {
      "cell_type": "code",
      "metadata": {
        "id": "FW_hjgArc337",
        "colab_type": "code",
        "colab": {
          "base_uri": "https://localhost:8080/",
          "height": 34
        },
        "outputId": "1b85f45e-e82f-4286-940b-c2cf551c9fc7"
      },
      "source": [
        "n_classes = len(pd.unique(metadata['Class']))\n",
        "\n",
        "print('Numero de classes: ', n_classes)"
      ],
      "execution_count": null,
      "outputs": [
        {
          "output_type": "stream",
          "text": [
            "Numero de classes:  13\n"
          ],
          "name": "stdout"
        }
      ]
    },
    {
      "cell_type": "markdown",
      "metadata": {
        "id": "xLyD2kFoeIno",
        "colab_type": "text"
      },
      "source": [
        "#### Número de amostras por classe"
      ]
    },
    {
      "cell_type": "code",
      "metadata": {
        "id": "WolQY7ftc5jS",
        "colab_type": "code",
        "colab": {
          "base_uri": "https://localhost:8080/",
          "height": 452
        },
        "outputId": "d4413ec6-1c4e-4488-f725-99acfcee5cfb"
      },
      "source": [
        "metadata['Class'].value_counts().to_frame()"
      ],
      "execution_count": null,
      "outputs": [
        {
          "output_type": "execute_result",
          "data": {
            "text/html": [
              "<div>\n",
              "<style scoped>\n",
              "    .dataframe tbody tr th:only-of-type {\n",
              "        vertical-align: middle;\n",
              "    }\n",
              "\n",
              "    .dataframe tbody tr th {\n",
              "        vertical-align: top;\n",
              "    }\n",
              "\n",
              "    .dataframe thead th {\n",
              "        text-align: right;\n",
              "    }\n",
              "</style>\n",
              "<table border=\"1\" class=\"dataframe\">\n",
              "  <thead>\n",
              "    <tr style=\"text-align: right;\">\n",
              "      <th></th>\n",
              "      <th>Class</th>\n",
              "    </tr>\n",
              "  </thead>\n",
              "  <tbody>\n",
              "    <tr>\n",
              "      <th>Waltz</th>\n",
              "      <td>529</td>\n",
              "    </tr>\n",
              "    <tr>\n",
              "      <th>Foxtrot</th>\n",
              "      <td>507</td>\n",
              "    </tr>\n",
              "    <tr>\n",
              "      <th>Quickstep</th>\n",
              "      <td>497</td>\n",
              "    </tr>\n",
              "    <tr>\n",
              "      <th>Rumba</th>\n",
              "      <td>470</td>\n",
              "    </tr>\n",
              "    <tr>\n",
              "      <th>Samba</th>\n",
              "      <td>468</td>\n",
              "    </tr>\n",
              "    <tr>\n",
              "      <th>Tango</th>\n",
              "      <td>464</td>\n",
              "    </tr>\n",
              "    <tr>\n",
              "      <th>Chacha</th>\n",
              "      <td>455</td>\n",
              "    </tr>\n",
              "    <tr>\n",
              "      <th>Jive</th>\n",
              "      <td>350</td>\n",
              "    </tr>\n",
              "    <tr>\n",
              "      <th>Viennesewaltz</th>\n",
              "      <td>252</td>\n",
              "    </tr>\n",
              "    <tr>\n",
              "      <th>Slowwaltz</th>\n",
              "      <td>65</td>\n",
              "    </tr>\n",
              "    <tr>\n",
              "      <th>Pasodoble</th>\n",
              "      <td>53</td>\n",
              "    </tr>\n",
              "    <tr>\n",
              "      <th>Salsa</th>\n",
              "      <td>47</td>\n",
              "    </tr>\n",
              "    <tr>\n",
              "      <th>Wcswing</th>\n",
              "      <td>23</td>\n",
              "    </tr>\n",
              "  </tbody>\n",
              "</table>\n",
              "</div>"
            ],
            "text/plain": [
              "               Class\n",
              "Waltz            529\n",
              "Foxtrot          507\n",
              "Quickstep        497\n",
              "Rumba            470\n",
              "Samba            468\n",
              "Tango            464\n",
              "Chacha           455\n",
              "Jive             350\n",
              "Viennesewaltz    252\n",
              "Slowwaltz         65\n",
              "Pasodoble         53\n",
              "Salsa             47\n",
              "Wcswing           23"
            ]
          },
          "metadata": {
            "tags": []
          },
          "execution_count": 21
        }
      ]
    },
    {
      "cell_type": "markdown",
      "metadata": {
        "id": "41brb2Ezc8TK",
        "colab_type": "text"
      },
      "source": [
        "#### Amostras por base"
      ]
    },
    {
      "cell_type": "code",
      "metadata": {
        "id": "pQxzrkvXdAm-",
        "colab_type": "code",
        "colab": {
          "base_uri": "https://localhost:8080/",
          "height": 111
        },
        "outputId": "9304f872-6da9-43c5-c1c8-278cef0e529d"
      },
      "source": [
        "metadata['Base'].value_counts().to_frame()"
      ],
      "execution_count": null,
      "outputs": [
        {
          "output_type": "execute_result",
          "data": {
            "text/html": [
              "<div>\n",
              "<style scoped>\n",
              "    .dataframe tbody tr th:only-of-type {\n",
              "        vertical-align: middle;\n",
              "    }\n",
              "\n",
              "    .dataframe tbody tr th {\n",
              "        vertical-align: top;\n",
              "    }\n",
              "\n",
              "    .dataframe thead th {\n",
              "        text-align: right;\n",
              "    }\n",
              "</style>\n",
              "<table border=\"1\" class=\"dataframe\">\n",
              "  <thead>\n",
              "    <tr style=\"text-align: right;\">\n",
              "      <th></th>\n",
              "      <th>Base</th>\n",
              "    </tr>\n",
              "  </thead>\n",
              "  <tbody>\n",
              "    <tr>\n",
              "      <th>Train</th>\n",
              "      <td>3345</td>\n",
              "    </tr>\n",
              "    <tr>\n",
              "      <th>Tests</th>\n",
              "      <td>835</td>\n",
              "    </tr>\n",
              "  </tbody>\n",
              "</table>\n",
              "</div>"
            ],
            "text/plain": [
              "       Base\n",
              "Train  3345\n",
              "Tests   835"
            ]
          },
          "metadata": {
            "tags": []
          },
          "execution_count": 25
        }
      ]
    },
    {
      "cell_type": "markdown",
      "metadata": {
        "id": "T2h7mk0SdDsS",
        "colab_type": "text"
      },
      "source": [
        "#### Duração dos áudios"
      ]
    },
    {
      "cell_type": "code",
      "metadata": {
        "id": "2hgj8j-1dJOR",
        "colab_type": "code",
        "colab": {
          "base_uri": "https://localhost:8080/",
          "height": 297
        },
        "outputId": "5136c6e4-a6b3-4b81-86a1-8324d57083e2"
      },
      "source": [
        "metadata['Duration'].describe().to_frame()"
      ],
      "execution_count": null,
      "outputs": [
        {
          "output_type": "execute_result",
          "data": {
            "text/html": [
              "<div>\n",
              "<style scoped>\n",
              "    .dataframe tbody tr th:only-of-type {\n",
              "        vertical-align: middle;\n",
              "    }\n",
              "\n",
              "    .dataframe tbody tr th {\n",
              "        vertical-align: top;\n",
              "    }\n",
              "\n",
              "    .dataframe thead th {\n",
              "        text-align: right;\n",
              "    }\n",
              "</style>\n",
              "<table border=\"1\" class=\"dataframe\">\n",
              "  <thead>\n",
              "    <tr style=\"text-align: right;\">\n",
              "      <th></th>\n",
              "      <th>Duration</th>\n",
              "    </tr>\n",
              "  </thead>\n",
              "  <tbody>\n",
              "    <tr>\n",
              "      <th>count</th>\n",
              "      <td>4180.000000</td>\n",
              "    </tr>\n",
              "    <tr>\n",
              "      <th>mean</th>\n",
              "      <td>30.914466</td>\n",
              "    </tr>\n",
              "    <tr>\n",
              "      <th>std</th>\n",
              "      <td>12.057541</td>\n",
              "    </tr>\n",
              "    <tr>\n",
              "      <th>min</th>\n",
              "      <td>29.988571</td>\n",
              "    </tr>\n",
              "    <tr>\n",
              "      <th>25%</th>\n",
              "      <td>30.000000</td>\n",
              "    </tr>\n",
              "    <tr>\n",
              "      <th>50%</th>\n",
              "      <td>30.040816</td>\n",
              "    </tr>\n",
              "    <tr>\n",
              "      <th>75%</th>\n",
              "      <td>30.040816</td>\n",
              "    </tr>\n",
              "    <tr>\n",
              "      <th>max</th>\n",
              "      <td>256.968000</td>\n",
              "    </tr>\n",
              "  </tbody>\n",
              "</table>\n",
              "</div>"
            ],
            "text/plain": [
              "          Duration\n",
              "count  4180.000000\n",
              "mean     30.914466\n",
              "std      12.057541\n",
              "min      29.988571\n",
              "25%      30.000000\n",
              "50%      30.040816\n",
              "75%      30.040816\n",
              "max     256.968000"
            ]
          },
          "metadata": {
            "tags": []
          },
          "execution_count": 26
        }
      ]
    },
    {
      "cell_type": "markdown",
      "metadata": {
        "id": "pFs3qIxVdLXr",
        "colab_type": "text"
      },
      "source": [
        "### Plotagem dos dados"
      ]
    },
    {
      "cell_type": "markdown",
      "metadata": {
        "id": "tM0v1oMJeVah",
        "colab_type": "text"
      },
      "source": [
        "#### Duração dos audios"
      ]
    },
    {
      "cell_type": "code",
      "metadata": {
        "id": "mxjYA658dN1N",
        "colab_type": "code",
        "colab": {
          "base_uri": "https://localhost:8080/",
          "height": 458
        },
        "outputId": "fe78cb95-64ed-49c6-e6de-7033aaa7bc11"
      },
      "source": [
        "plt.hist(metadata['Duration'], rwidth=0.8, color=\"#036bfc\")\n",
        "plt.rcParams['figure.figsize'] = (11,7)\n",
        "plt.xlabel('Duração em segundos')\n",
        "plt.ylabel('População')\n",
        "plt.title('Histograma da duração dos áudios')\n",
        "plt.grid(False)\n",
        "plt.show()"
      ],
      "execution_count": null,
      "outputs": [
        {
          "output_type": "display_data",
          "data": {
            "image/png": "[encoded data removed]",
            "text/plain": [
              "<Figure size 792x504 with 1 Axes>"
            ]
          },
          "metadata": {
            "tags": [],
            "needs_background": "light"
          }
        }
      ]
    },
    {
      "cell_type": "markdown",
      "metadata": {
        "id": "-m7yjAqQeZtI",
        "colab_type": "text"
      },
      "source": [
        "#### Amostras por classe"
      ]
    },
    {
      "cell_type": "code",
      "metadata": {
        "id": "z9Sv9l5JdQEb",
        "colab_type": "code",
        "colab": {
          "base_uri": "https://localhost:8080/",
          "height": 458
        },
        "outputId": "3db97f73-d768-40a9-b4ec-54620a78bd95"
      },
      "source": [
        "plt.hist(metadata['ClassID'], rwidth=0.8, color='#036bfc')\n",
        "plt.rcParams['figure.figsize'] = (11,7)\n",
        "plt.xlabel('Classe')\n",
        "plt.ylabel('População')\n",
        "plt.title('Histograma das amostras por classe')\n",
        "plt.grid(False)\n",
        "plt.show()"
      ],
      "execution_count": null,
      "outputs": [
        {
          "output_type": "display_data",
          "data": {
            "image/png": "[encoded data removed]",
            "text/plain": [
              "<Figure size 792x504 with 1 Axes>"
            ]
          },
          "metadata": {
            "tags": [],
            "needs_background": "light"
          }
        }
      ]
    },
    {
      "cell_type": "markdown",
      "metadata": {
        "id": "M0XBnxQFelKh",
        "colab_type": "text"
      },
      "source": [
        "#### FrameRate das amostras"
      ]
    },
    {
      "cell_type": "code",
      "metadata": {
        "id": "pnMQsmLSdSIA",
        "colab_type": "code",
        "colab": {
          "base_uri": "https://localhost:8080/",
          "height": 458
        },
        "outputId": "ea847f0f-50e7-4a62-cfc9-d68318e1ec05"
      },
      "source": [
        "plt.hist(metadata['FrameRate'], rwidth=0.8, color='#036bfc')\n",
        "plt.rcParams['figure.figsize'] = (11,7)\n",
        "plt.xlabel('Hertz')\n",
        "plt.ylabel('População')\n",
        "plt.title('Histograma FrameRate')\n",
        "plt.grid(False)\n",
        "plt.show()"
      ],
      "execution_count": null,
      "outputs": [
        {
          "output_type": "display_data",
          "data": {
            "image/png": "[encoded data removed]",
            "text/plain": [
              "<Figure size 792x504 with 1 Axes>"
            ]
          },
          "metadata": {
            "tags": [],
            "needs_background": "light"
          }
        }
      ]
    },
    {
      "cell_type": "markdown",
      "metadata": {
        "id": "aReCygUnfAOa",
        "colab_type": "text"
      },
      "source": [
        "#### Número de canais"
      ]
    },
    {
      "cell_type": "code",
      "metadata": {
        "id": "7x6Gn4BrdT1j",
        "colab_type": "code",
        "colab": {
          "base_uri": "https://localhost:8080/",
          "height": 458
        },
        "outputId": "7b8a5c48-9366-4f58-a25b-e7b5a4e4db4b"
      },
      "source": [
        "plt.hist(metadata['Channels'], rwidth=0.8, color='#036bfc')\n",
        "plt.rcParams['figure.figsize'] = (11,7)\n",
        "plt.xlabel('Canais')\n",
        "plt.ylabel('População')\n",
        "plt.title('Histograma da quantidade de canais por classe')\n",
        "plt.grid(False)\n",
        "plt.show()"
      ],
      "execution_count": null,
      "outputs": [
        {
          "output_type": "display_data",
          "data": {
            "image/png": "[encoded data removed]",
            "text/plain": [
              "<Figure size 792x504 with 1 Axes>"
            ]
          },
          "metadata": {
            "tags": [],
            "needs_background": "light"
          }
        }
      ]
    },
    {
      "cell_type": "markdown",
      "metadata": {
        "id": "96ihYjOIfEq0",
        "colab_type": "text"
      },
      "source": [
        "#### Bits por amostra"
      ]
    },
    {
      "cell_type": "code",
      "metadata": {
        "id": "I3_ZkizKdVLk",
        "colab_type": "code",
        "colab": {
          "base_uri": "https://localhost:8080/",
          "height": 458
        },
        "outputId": "24d8f2cd-5c36-4ade-9a92-9da6169552ec"
      },
      "source": [
        "plt.hist(metadata['Bits/A'], rwidth=0.8, color='#036bfc')\n",
        "plt.rcParams['figure.figsize'] = (11,7)\n",
        "plt.xlabel('Bits/A')\n",
        "plt.ylabel('População')\n",
        "plt.title('Histograma da quantidade de bits por amostra')\n",
        "plt.grid(False)\n",
        "plt.show()"
      ],
      "execution_count": null,
      "outputs": [
        {
          "output_type": "display_data",
          "data": {
            "image/png": "[encoded data removed]",
            "text/plain": [
              "<Figure size 792x504 with 1 Axes>"
            ]
          },
          "metadata": {
            "tags": [],
            "needs_background": "light"
          }
        }
      ]
    }
  ]
}