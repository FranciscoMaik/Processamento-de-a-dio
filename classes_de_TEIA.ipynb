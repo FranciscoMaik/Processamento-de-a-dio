{
 "cells": [
  {
   "cell_type": "markdown",
   "metadata": {
    "colab_type": "text",
    "id": "1GQQel_Nicq5"
   },
   "source": [
    "# Importação das Bibliotecas"
   ]
  },
  {
   "cell_type": "code",
   "execution_count": 1,
   "metadata": {
    "colab": {
     "base_uri": "https://localhost:8080/",
     "height": 34
    },
    "colab_type": "code",
    "id": "k6iBeiMIhxOg",
    "outputId": "452cd361-6857-4985-aefd-aded13c6bc0b"
   },
   "outputs": [],
   "source": [
    "import numpy as np\n",
    "import pandas as pd\n",
    "import wave\n",
    "import struct\n",
    "import matplotlib.pyplot as plt\n",
    "import glob\n",
    "import os\n",
    "\n",
    "path = os.getcwd()\n",
    "# name_bases = os.listdir('Trabalho_de_processamento/Ballroom/')\n",
    "\n"
   ]
  },
  {
   "cell_type": "markdown",
   "metadata": {
    "colab_type": "text",
    "id": "kz8i_xF763zI"
   },
   "source": [
    "# Variaveis global"
   ]
  },
  {
   "cell_type": "code",
   "execution_count": 10,
   "metadata": {
    "colab": {},
    "colab_type": "code",
    "id": "tZsBiTaP4rPW"
   },
   "outputs": [],
   "source": [
    "\n",
    "arquivo= glob.glob(path+f'/Ballroom/*/*.wav')\n",
    "linha = len(arquivo)\n",
    "contador = 0\n"
   ]
  },
  {
   "cell_type": "markdown",
   "metadata": {
    "colab_type": "text",
    "id": "AC7PS_bJ1vem"
   },
   "source": [
    "# Criando a Matriz de armazenamento de dados"
   ]
  },
  {
   "cell_type": "code",
   "execution_count": 11,
   "metadata": {
    "colab": {},
    "colab_type": "code",
    "id": "XnxZt_lm1z0g"
   },
   "outputs": [],
   "source": [
    "matriz = []\n",
    "for i in range(linha):\n",
    "    matriz.append([])\n",
    "    for j in range(5):\n",
    "        matriz[i].append([])"
   ]
  },
  {
   "cell_type": "markdown",
   "metadata": {
    "colab_type": "text",
    "id": "DYKErfxgiwDz"
   },
   "source": [
    "# Função de Extração de Caracteristicas\n"
   ]
  },
  {
   "cell_type": "code",
   "execution_count": 12,
   "metadata": {
    "colab": {},
    "colab_type": "code",
    "id": "CzwDwY2PiEb2"
   },
   "outputs": [],
   "source": [
    "def extrassao_de_dados_da_classe(caminho,linhas):\n",
    "    opened_audio = wave.open(caminho, \"rb\").getparams()\n",
    "    \n",
    "    \n",
    "    #pegar nome da pasta\n",
    "    final = caminho.rfind(\"/\")\n",
    "    inicio = caminho.rfind(\"/\",1,final-1)\n",
    "    nome_base=caminho[inicio+1:final]\n",
    "    \n",
    "       \n",
    "    armazena_dados_na_matriz(opened_audio[2], opened_audio[0], (opened_audio[1]**4), opened_audio[3]/opened_audio[2], nome_base)\n",
    "    \n",
    "    return contador + 1\n",
    "    "
   ]
  },
  {
   "cell_type": "markdown",
   "metadata": {
    "colab_type": "text",
    "id": "Dm_Al5pC6zdm"
   },
   "source": [
    "# Salva os dados na matriz"
   ]
  },
  {
   "cell_type": "code",
   "execution_count": 13,
   "metadata": {
    "colab": {},
    "colab_type": "code",
    "id": "ohBwdEHO4eq4"
   },
   "outputs": [],
   "source": [
    "def armazena_dados_na_matriz(taxa,canais,bits,duracao, nome_base):\n",
    "    matriz[contador][0] = taxa\n",
    "    matriz[contador][1] = canais\n",
    "    matriz[contador][2] = bits\n",
    "    matriz[contador][3] = duracao\n",
    "    matriz[contador][4] = nome_base\n"
   ]
  },
  {
   "cell_type": "markdown",
   "metadata": {
    "colab_type": "text",
    "id": "ONuWtMsNi-8B"
   },
   "source": [
    "# Abre todos os aquivos .wav da pasta (Nome da pasta)\n"
   ]
  },
  {
   "cell_type": "code",
   "execution_count": 14,
   "metadata": {
    "colab": {},
    "colab_type": "code",
    "id": "jquZcRc_iWQL"
   },
   "outputs": [],
   "source": [
    "for i in arquivo:\n",
    "    contador = extrassao_de_dados_da_classe(i,linha)\n",
    "    "
   ]
  },
  {
   "cell_type": "markdown",
   "metadata": {},
   "source": [
    "# Salvando arquivo .csv"
   ]
  },
  {
   "cell_type": "code",
   "execution_count": 15,
   "metadata": {
    "colab": {},
    "colab_type": "code",
    "id": "ylKaj8Ns91bC"
   },
   "outputs": [],
   "source": [
    "cabecario = ['Sampling_Rate','Channels','Bits','Duration','Class']\n",
    "pd.DataFrame(matriz).to_csv(path+f\"/csv/Base_Ballroom.csv\", header = cabecario)"
   ]
  },
  {
   "cell_type": "code",
   "execution_count": 16,
   "metadata": {},
   "outputs": [
    {
     "data": {
      "text/html": [
       "<div>\n",
       "<style scoped>\n",
       "    .dataframe tbody tr th:only-of-type {\n",
       "        vertical-align: middle;\n",
       "    }\n",
       "\n",
       "    .dataframe tbody tr th {\n",
       "        vertical-align: top;\n",
       "    }\n",
       "\n",
       "    .dataframe thead th {\n",
       "        text-align: right;\n",
       "    }\n",
       "</style>\n",
       "<table border=\"1\" class=\"dataframe\">\n",
       "  <thead>\n",
       "    <tr style=\"text-align: right;\">\n",
       "      <th></th>\n",
       "      <th>Sampling_Rate</th>\n",
       "      <th>Channels</th>\n",
       "      <th>Bits</th>\n",
       "      <th>Duration</th>\n",
       "      <th>Class</th>\n",
       "    </tr>\n",
       "  </thead>\n",
       "  <tbody>\n",
       "    <tr>\n",
       "      <th>0</th>\n",
       "      <td>44100</td>\n",
       "      <td>1</td>\n",
       "      <td>16</td>\n",
       "      <td>31.787937</td>\n",
       "      <td>ChaChaCha</td>\n",
       "    </tr>\n",
       "    <tr>\n",
       "      <th>1</th>\n",
       "      <td>44100</td>\n",
       "      <td>1</td>\n",
       "      <td>16</td>\n",
       "      <td>31.787937</td>\n",
       "      <td>ChaChaCha</td>\n",
       "    </tr>\n",
       "    <tr>\n",
       "      <th>2</th>\n",
       "      <td>44100</td>\n",
       "      <td>1</td>\n",
       "      <td>16</td>\n",
       "      <td>31.787937</td>\n",
       "      <td>ChaChaCha</td>\n",
       "    </tr>\n",
       "    <tr>\n",
       "      <th>3</th>\n",
       "      <td>44100</td>\n",
       "      <td>1</td>\n",
       "      <td>16</td>\n",
       "      <td>31.787937</td>\n",
       "      <td>ChaChaCha</td>\n",
       "    </tr>\n",
       "    <tr>\n",
       "      <th>4</th>\n",
       "      <td>44100</td>\n",
       "      <td>1</td>\n",
       "      <td>16</td>\n",
       "      <td>31.787937</td>\n",
       "      <td>ChaChaCha</td>\n",
       "    </tr>\n",
       "    <tr>\n",
       "      <th>5</th>\n",
       "      <td>44100</td>\n",
       "      <td>1</td>\n",
       "      <td>16</td>\n",
       "      <td>31.787937</td>\n",
       "      <td>ChaChaCha</td>\n",
       "    </tr>\n",
       "    <tr>\n",
       "      <th>6</th>\n",
       "      <td>44100</td>\n",
       "      <td>1</td>\n",
       "      <td>16</td>\n",
       "      <td>31.787937</td>\n",
       "      <td>ChaChaCha</td>\n",
       "    </tr>\n",
       "    <tr>\n",
       "      <th>7</th>\n",
       "      <td>44100</td>\n",
       "      <td>1</td>\n",
       "      <td>16</td>\n",
       "      <td>30.719501</td>\n",
       "      <td>ChaChaCha</td>\n",
       "    </tr>\n",
       "    <tr>\n",
       "      <th>8</th>\n",
       "      <td>44100</td>\n",
       "      <td>1</td>\n",
       "      <td>16</td>\n",
       "      <td>31.787937</td>\n",
       "      <td>ChaChaCha</td>\n",
       "    </tr>\n",
       "    <tr>\n",
       "      <th>9</th>\n",
       "      <td>44100</td>\n",
       "      <td>1</td>\n",
       "      <td>16</td>\n",
       "      <td>34.063492</td>\n",
       "      <td>ChaChaCha</td>\n",
       "    </tr>\n",
       "    <tr>\n",
       "      <th>10</th>\n",
       "      <td>44100</td>\n",
       "      <td>1</td>\n",
       "      <td>16</td>\n",
       "      <td>31.787937</td>\n",
       "      <td>ChaChaCha</td>\n",
       "    </tr>\n",
       "    <tr>\n",
       "      <th>11</th>\n",
       "      <td>44100</td>\n",
       "      <td>1</td>\n",
       "      <td>16</td>\n",
       "      <td>30.143537</td>\n",
       "      <td>ChaChaCha</td>\n",
       "    </tr>\n",
       "    <tr>\n",
       "      <th>12</th>\n",
       "      <td>44100</td>\n",
       "      <td>1</td>\n",
       "      <td>16</td>\n",
       "      <td>30.143537</td>\n",
       "      <td>ChaChaCha</td>\n",
       "    </tr>\n",
       "    <tr>\n",
       "      <th>13</th>\n",
       "      <td>44100</td>\n",
       "      <td>1</td>\n",
       "      <td>16</td>\n",
       "      <td>31.787937</td>\n",
       "      <td>ChaChaCha</td>\n",
       "    </tr>\n",
       "    <tr>\n",
       "      <th>14</th>\n",
       "      <td>44100</td>\n",
       "      <td>1</td>\n",
       "      <td>16</td>\n",
       "      <td>30.143537</td>\n",
       "      <td>ChaChaCha</td>\n",
       "    </tr>\n",
       "    <tr>\n",
       "      <th>15</th>\n",
       "      <td>44100</td>\n",
       "      <td>1</td>\n",
       "      <td>16</td>\n",
       "      <td>31.787937</td>\n",
       "      <td>ChaChaCha</td>\n",
       "    </tr>\n",
       "    <tr>\n",
       "      <th>16</th>\n",
       "      <td>44100</td>\n",
       "      <td>1</td>\n",
       "      <td>16</td>\n",
       "      <td>30.092336</td>\n",
       "      <td>ChaChaCha</td>\n",
       "    </tr>\n",
       "    <tr>\n",
       "      <th>17</th>\n",
       "      <td>44100</td>\n",
       "      <td>1</td>\n",
       "      <td>16</td>\n",
       "      <td>31.787937</td>\n",
       "      <td>ChaChaCha</td>\n",
       "    </tr>\n",
       "    <tr>\n",
       "      <th>18</th>\n",
       "      <td>44100</td>\n",
       "      <td>1</td>\n",
       "      <td>16</td>\n",
       "      <td>30.143537</td>\n",
       "      <td>ChaChaCha</td>\n",
       "    </tr>\n",
       "    <tr>\n",
       "      <th>19</th>\n",
       "      <td>44100</td>\n",
       "      <td>1</td>\n",
       "      <td>16</td>\n",
       "      <td>31.787937</td>\n",
       "      <td>ChaChaCha</td>\n",
       "    </tr>\n",
       "    <tr>\n",
       "      <th>20</th>\n",
       "      <td>44100</td>\n",
       "      <td>1</td>\n",
       "      <td>16</td>\n",
       "      <td>31.787937</td>\n",
       "      <td>ChaChaCha</td>\n",
       "    </tr>\n",
       "    <tr>\n",
       "      <th>21</th>\n",
       "      <td>44100</td>\n",
       "      <td>1</td>\n",
       "      <td>16</td>\n",
       "      <td>31.787937</td>\n",
       "      <td>ChaChaCha</td>\n",
       "    </tr>\n",
       "    <tr>\n",
       "      <th>22</th>\n",
       "      <td>44100</td>\n",
       "      <td>1</td>\n",
       "      <td>16</td>\n",
       "      <td>31.787937</td>\n",
       "      <td>ChaChaCha</td>\n",
       "    </tr>\n",
       "    <tr>\n",
       "      <th>23</th>\n",
       "      <td>44100</td>\n",
       "      <td>1</td>\n",
       "      <td>16</td>\n",
       "      <td>31.787937</td>\n",
       "      <td>ChaChaCha</td>\n",
       "    </tr>\n",
       "    <tr>\n",
       "      <th>24</th>\n",
       "      <td>44100</td>\n",
       "      <td>1</td>\n",
       "      <td>16</td>\n",
       "      <td>31.787937</td>\n",
       "      <td>ChaChaCha</td>\n",
       "    </tr>\n",
       "    <tr>\n",
       "      <th>25</th>\n",
       "      <td>44100</td>\n",
       "      <td>1</td>\n",
       "      <td>16</td>\n",
       "      <td>31.787937</td>\n",
       "      <td>ChaChaCha</td>\n",
       "    </tr>\n",
       "    <tr>\n",
       "      <th>26</th>\n",
       "      <td>44100</td>\n",
       "      <td>1</td>\n",
       "      <td>16</td>\n",
       "      <td>29.512381</td>\n",
       "      <td>ChaChaCha</td>\n",
       "    </tr>\n",
       "    <tr>\n",
       "      <th>27</th>\n",
       "      <td>44100</td>\n",
       "      <td>1</td>\n",
       "      <td>16</td>\n",
       "      <td>31.787937</td>\n",
       "      <td>ChaChaCha</td>\n",
       "    </tr>\n",
       "    <tr>\n",
       "      <th>28</th>\n",
       "      <td>44100</td>\n",
       "      <td>1</td>\n",
       "      <td>16</td>\n",
       "      <td>31.787937</td>\n",
       "      <td>ChaChaCha</td>\n",
       "    </tr>\n",
       "    <tr>\n",
       "      <th>29</th>\n",
       "      <td>44100</td>\n",
       "      <td>1</td>\n",
       "      <td>16</td>\n",
       "      <td>30.047506</td>\n",
       "      <td>ChaChaCha</td>\n",
       "    </tr>\n",
       "    <tr>\n",
       "      <th>...</th>\n",
       "      <td>...</td>\n",
       "      <td>...</td>\n",
       "      <td>...</td>\n",
       "      <td>...</td>\n",
       "      <td>...</td>\n",
       "    </tr>\n",
       "    <tr>\n",
       "      <th>668</th>\n",
       "      <td>44100</td>\n",
       "      <td>1</td>\n",
       "      <td>16</td>\n",
       "      <td>30.092336</td>\n",
       "      <td>VienneseWaltz</td>\n",
       "    </tr>\n",
       "    <tr>\n",
       "      <th>669</th>\n",
       "      <td>44100</td>\n",
       "      <td>1</td>\n",
       "      <td>16</td>\n",
       "      <td>31.787937</td>\n",
       "      <td>VienneseWaltz</td>\n",
       "    </tr>\n",
       "    <tr>\n",
       "      <th>670</th>\n",
       "      <td>44100</td>\n",
       "      <td>1</td>\n",
       "      <td>16</td>\n",
       "      <td>31.787937</td>\n",
       "      <td>VienneseWaltz</td>\n",
       "    </tr>\n",
       "    <tr>\n",
       "      <th>671</th>\n",
       "      <td>44100</td>\n",
       "      <td>1</td>\n",
       "      <td>16</td>\n",
       "      <td>31.787937</td>\n",
       "      <td>VienneseWaltz</td>\n",
       "    </tr>\n",
       "    <tr>\n",
       "      <th>672</th>\n",
       "      <td>44100</td>\n",
       "      <td>1</td>\n",
       "      <td>16</td>\n",
       "      <td>31.787937</td>\n",
       "      <td>VienneseWaltz</td>\n",
       "    </tr>\n",
       "    <tr>\n",
       "      <th>673</th>\n",
       "      <td>44100</td>\n",
       "      <td>1</td>\n",
       "      <td>16</td>\n",
       "      <td>31.787937</td>\n",
       "      <td>VienneseWaltz</td>\n",
       "    </tr>\n",
       "    <tr>\n",
       "      <th>674</th>\n",
       "      <td>44100</td>\n",
       "      <td>1</td>\n",
       "      <td>16</td>\n",
       "      <td>30.047506</td>\n",
       "      <td>VienneseWaltz</td>\n",
       "    </tr>\n",
       "    <tr>\n",
       "      <th>675</th>\n",
       "      <td>44100</td>\n",
       "      <td>1</td>\n",
       "      <td>16</td>\n",
       "      <td>31.787937</td>\n",
       "      <td>VienneseWaltz</td>\n",
       "    </tr>\n",
       "    <tr>\n",
       "      <th>676</th>\n",
       "      <td>44100</td>\n",
       "      <td>1</td>\n",
       "      <td>16</td>\n",
       "      <td>31.787937</td>\n",
       "      <td>VienneseWaltz</td>\n",
       "    </tr>\n",
       "    <tr>\n",
       "      <th>677</th>\n",
       "      <td>44100</td>\n",
       "      <td>1</td>\n",
       "      <td>16</td>\n",
       "      <td>30.047506</td>\n",
       "      <td>VienneseWaltz</td>\n",
       "    </tr>\n",
       "    <tr>\n",
       "      <th>678</th>\n",
       "      <td>44100</td>\n",
       "      <td>1</td>\n",
       "      <td>16</td>\n",
       "      <td>31.787937</td>\n",
       "      <td>VienneseWaltz</td>\n",
       "    </tr>\n",
       "    <tr>\n",
       "      <th>679</th>\n",
       "      <td>44100</td>\n",
       "      <td>1</td>\n",
       "      <td>16</td>\n",
       "      <td>31.787937</td>\n",
       "      <td>VienneseWaltz</td>\n",
       "    </tr>\n",
       "    <tr>\n",
       "      <th>680</th>\n",
       "      <td>44100</td>\n",
       "      <td>1</td>\n",
       "      <td>16</td>\n",
       "      <td>31.787937</td>\n",
       "      <td>VienneseWaltz</td>\n",
       "    </tr>\n",
       "    <tr>\n",
       "      <th>681</th>\n",
       "      <td>44100</td>\n",
       "      <td>1</td>\n",
       "      <td>16</td>\n",
       "      <td>31.787937</td>\n",
       "      <td>VienneseWaltz</td>\n",
       "    </tr>\n",
       "    <tr>\n",
       "      <th>682</th>\n",
       "      <td>44100</td>\n",
       "      <td>1</td>\n",
       "      <td>16</td>\n",
       "      <td>31.787937</td>\n",
       "      <td>VienneseWaltz</td>\n",
       "    </tr>\n",
       "    <tr>\n",
       "      <th>683</th>\n",
       "      <td>44100</td>\n",
       "      <td>1</td>\n",
       "      <td>16</td>\n",
       "      <td>31.787937</td>\n",
       "      <td>VienneseWaltz</td>\n",
       "    </tr>\n",
       "    <tr>\n",
       "      <th>684</th>\n",
       "      <td>44100</td>\n",
       "      <td>1</td>\n",
       "      <td>16</td>\n",
       "      <td>31.787937</td>\n",
       "      <td>VienneseWaltz</td>\n",
       "    </tr>\n",
       "    <tr>\n",
       "      <th>685</th>\n",
       "      <td>44100</td>\n",
       "      <td>1</td>\n",
       "      <td>16</td>\n",
       "      <td>31.787937</td>\n",
       "      <td>VienneseWaltz</td>\n",
       "    </tr>\n",
       "    <tr>\n",
       "      <th>686</th>\n",
       "      <td>44100</td>\n",
       "      <td>1</td>\n",
       "      <td>16</td>\n",
       "      <td>31.787937</td>\n",
       "      <td>VienneseWaltz</td>\n",
       "    </tr>\n",
       "    <tr>\n",
       "      <th>687</th>\n",
       "      <td>44100</td>\n",
       "      <td>1</td>\n",
       "      <td>16</td>\n",
       "      <td>31.787937</td>\n",
       "      <td>VienneseWaltz</td>\n",
       "    </tr>\n",
       "    <tr>\n",
       "      <th>688</th>\n",
       "      <td>44100</td>\n",
       "      <td>1</td>\n",
       "      <td>16</td>\n",
       "      <td>31.787937</td>\n",
       "      <td>VienneseWaltz</td>\n",
       "    </tr>\n",
       "    <tr>\n",
       "      <th>689</th>\n",
       "      <td>44100</td>\n",
       "      <td>1</td>\n",
       "      <td>16</td>\n",
       "      <td>29.759501</td>\n",
       "      <td>VienneseWaltz</td>\n",
       "    </tr>\n",
       "    <tr>\n",
       "      <th>690</th>\n",
       "      <td>44100</td>\n",
       "      <td>1</td>\n",
       "      <td>16</td>\n",
       "      <td>31.787937</td>\n",
       "      <td>VienneseWaltz</td>\n",
       "    </tr>\n",
       "    <tr>\n",
       "      <th>691</th>\n",
       "      <td>44100</td>\n",
       "      <td>1</td>\n",
       "      <td>16</td>\n",
       "      <td>31.787937</td>\n",
       "      <td>VienneseWaltz</td>\n",
       "    </tr>\n",
       "    <tr>\n",
       "      <th>692</th>\n",
       "      <td>44100</td>\n",
       "      <td>1</td>\n",
       "      <td>16</td>\n",
       "      <td>31.787937</td>\n",
       "      <td>VienneseWaltz</td>\n",
       "    </tr>\n",
       "    <tr>\n",
       "      <th>693</th>\n",
       "      <td>44100</td>\n",
       "      <td>1</td>\n",
       "      <td>16</td>\n",
       "      <td>31.787937</td>\n",
       "      <td>VienneseWaltz</td>\n",
       "    </tr>\n",
       "    <tr>\n",
       "      <th>694</th>\n",
       "      <td>44100</td>\n",
       "      <td>1</td>\n",
       "      <td>16</td>\n",
       "      <td>31.787937</td>\n",
       "      <td>VienneseWaltz</td>\n",
       "    </tr>\n",
       "    <tr>\n",
       "      <th>695</th>\n",
       "      <td>44100</td>\n",
       "      <td>1</td>\n",
       "      <td>16</td>\n",
       "      <td>31.787937</td>\n",
       "      <td>VienneseWaltz</td>\n",
       "    </tr>\n",
       "    <tr>\n",
       "      <th>696</th>\n",
       "      <td>44100</td>\n",
       "      <td>1</td>\n",
       "      <td>16</td>\n",
       "      <td>31.787937</td>\n",
       "      <td>VienneseWaltz</td>\n",
       "    </tr>\n",
       "    <tr>\n",
       "      <th>697</th>\n",
       "      <td>44100</td>\n",
       "      <td>1</td>\n",
       "      <td>16</td>\n",
       "      <td>31.787937</td>\n",
       "      <td>VienneseWaltz</td>\n",
       "    </tr>\n",
       "  </tbody>\n",
       "</table>\n",
       "<p>698 rows × 5 columns</p>\n",
       "</div>"
      ],
      "text/plain": [
       "     Sampling_Rate  Channels  Bits   Duration          Class\n",
       "0            44100         1    16  31.787937      ChaChaCha\n",
       "1            44100         1    16  31.787937      ChaChaCha\n",
       "2            44100         1    16  31.787937      ChaChaCha\n",
       "3            44100         1    16  31.787937      ChaChaCha\n",
       "4            44100         1    16  31.787937      ChaChaCha\n",
       "5            44100         1    16  31.787937      ChaChaCha\n",
       "6            44100         1    16  31.787937      ChaChaCha\n",
       "7            44100         1    16  30.719501      ChaChaCha\n",
       "8            44100         1    16  31.787937      ChaChaCha\n",
       "9            44100         1    16  34.063492      ChaChaCha\n",
       "10           44100         1    16  31.787937      ChaChaCha\n",
       "11           44100         1    16  30.143537      ChaChaCha\n",
       "12           44100         1    16  30.143537      ChaChaCha\n",
       "13           44100         1    16  31.787937      ChaChaCha\n",
       "14           44100         1    16  30.143537      ChaChaCha\n",
       "15           44100         1    16  31.787937      ChaChaCha\n",
       "16           44100         1    16  30.092336      ChaChaCha\n",
       "17           44100         1    16  31.787937      ChaChaCha\n",
       "18           44100         1    16  30.143537      ChaChaCha\n",
       "19           44100         1    16  31.787937      ChaChaCha\n",
       "20           44100         1    16  31.787937      ChaChaCha\n",
       "21           44100         1    16  31.787937      ChaChaCha\n",
       "22           44100         1    16  31.787937      ChaChaCha\n",
       "23           44100         1    16  31.787937      ChaChaCha\n",
       "24           44100         1    16  31.787937      ChaChaCha\n",
       "25           44100         1    16  31.787937      ChaChaCha\n",
       "26           44100         1    16  29.512381      ChaChaCha\n",
       "27           44100         1    16  31.787937      ChaChaCha\n",
       "28           44100         1    16  31.787937      ChaChaCha\n",
       "29           44100         1    16  30.047506      ChaChaCha\n",
       "..             ...       ...   ...        ...            ...\n",
       "668          44100         1    16  30.092336  VienneseWaltz\n",
       "669          44100         1    16  31.787937  VienneseWaltz\n",
       "670          44100         1    16  31.787937  VienneseWaltz\n",
       "671          44100         1    16  31.787937  VienneseWaltz\n",
       "672          44100         1    16  31.787937  VienneseWaltz\n",
       "673          44100         1    16  31.787937  VienneseWaltz\n",
       "674          44100         1    16  30.047506  VienneseWaltz\n",
       "675          44100         1    16  31.787937  VienneseWaltz\n",
       "676          44100         1    16  31.787937  VienneseWaltz\n",
       "677          44100         1    16  30.047506  VienneseWaltz\n",
       "678          44100         1    16  31.787937  VienneseWaltz\n",
       "679          44100         1    16  31.787937  VienneseWaltz\n",
       "680          44100         1    16  31.787937  VienneseWaltz\n",
       "681          44100         1    16  31.787937  VienneseWaltz\n",
       "682          44100         1    16  31.787937  VienneseWaltz\n",
       "683          44100         1    16  31.787937  VienneseWaltz\n",
       "684          44100         1    16  31.787937  VienneseWaltz\n",
       "685          44100         1    16  31.787937  VienneseWaltz\n",
       "686          44100         1    16  31.787937  VienneseWaltz\n",
       "687          44100         1    16  31.787937  VienneseWaltz\n",
       "688          44100         1    16  31.787937  VienneseWaltz\n",
       "689          44100         1    16  29.759501  VienneseWaltz\n",
       "690          44100         1    16  31.787937  VienneseWaltz\n",
       "691          44100         1    16  31.787937  VienneseWaltz\n",
       "692          44100         1    16  31.787937  VienneseWaltz\n",
       "693          44100         1    16  31.787937  VienneseWaltz\n",
       "694          44100         1    16  31.787937  VienneseWaltz\n",
       "695          44100         1    16  31.787937  VienneseWaltz\n",
       "696          44100         1    16  31.787937  VienneseWaltz\n",
       "697          44100         1    16  31.787937  VienneseWaltz\n",
       "\n",
       "[698 rows x 5 columns]"
      ]
     },
     "execution_count": 16,
     "metadata": {},
     "output_type": "execute_result"
    }
   ],
   "source": [
    "#mostrar arquivo\n",
    "metadata_path = pd.read_csv(path+f\"/csv/Base_Ballroom.csv\",index_col = 0)\n",
    "metadata_path\n",
    "  "
   ]
  },
  {
   "cell_type": "markdown",
   "metadata": {},
   "source": [
    "# Plotagem de gráficos"
   ]
  },
  {
   "cell_type": "markdown",
   "metadata": {},
   "source": [
    "## Gráfico do Tamanho dos aúdios"
   ]
  },
  {
   "cell_type": "code",
   "execution_count": 17,
   "metadata": {},
   "outputs": [
    {
     "data": {
      "image/png": "[encoded data removed]",
      "text/plain": [
       "<Figure size 432x288 with 1 Axes>"
      ]
     },
     "metadata": {
      "needs_background": "light"
     },
     "output_type": "display_data"
    }
   ],
   "source": [
    "plt.hist(metadata_path['Duration'], rwidth=0.9, color='#54CC14')\n",
    "plt.rcParams['figure.figsize'] = (11,7)\n",
    "plt.xlabel('Duração')\n",
    "plt.ylabel('População')\n",
    "plt.title('Histograma da duração dos aúdios dos áudios (s)')\n",
    "plt.grid(False)\n",
    "plt.show()\n",
    "\n"
   ]
  },
  {
   "cell_type": "markdown",
   "metadata": {},
   "source": [
    "## Gráfico da Frequência dos aúdios"
   ]
  },
  {
   "cell_type": "code",
   "execution_count": 18,
   "metadata": {},
   "outputs": [
    {
     "data": {
      "image/png": "[encoded data removed]",
      "text/plain": [
       "<Figure size 792x504 with 1 Axes>"
      ]
     },
     "metadata": {
      "needs_background": "light"
     },
     "output_type": "display_data"
    }
   ],
   "source": [
    "plt.hist(metadata_path['Sampling_Rate'], rwidth=0.9, color='#CC4A14')\n",
    "plt.rcParams['figure.figsize'] = (11,7)\n",
    "plt.xlabel('Taxa de Amostragem')\n",
    "plt.ylabel('População')\n",
    "plt.title('Histograma da frequência dos aúdios dos áudios (s)')\n",
    "plt.grid(False)\n",
    "plt.show()"
   ]
  },
  {
   "cell_type": "markdown",
   "metadata": {},
   "source": [
    "## Gráfico dos Bits dos aúdios"
   ]
  },
  {
   "cell_type": "code",
   "execution_count": 20,
   "metadata": {},
   "outputs": [
    {
     "data": {
      "image/png": "[encoded data removed]",
      "text/plain": [
       "<Figure size 792x504 with 1 Axes>"
      ]
     },
     "metadata": {
      "needs_background": "light"
     },
     "output_type": "display_data"
    }
   ],
   "source": [
    "plt.hist(metadata_path['Bits'], rwidth=0.9, color='#99583D')\n",
    "plt.rcParams['figure.figsize'] = (11,7)\n",
    "plt.xlabel('Bits')\n",
    "plt.ylabel('População')\n",
    "plt.title('Histograma dos Bits dos aúdios dos áudios (s)')\n",
    "plt.grid(False)\n",
    "plt.show()"
   ]
  },
  {
   "cell_type": "markdown",
   "metadata": {},
   "source": [
    "## Gráfico dos Canais dos aúdios"
   ]
  },
  {
   "cell_type": "code",
   "execution_count": 21,
   "metadata": {},
   "outputs": [
    {
     "data": {
      "image/png": "[encoded data removed]",
      "text/plain": [
       "<Figure size 792x504 with 1 Axes>"
      ]
     },
     "metadata": {
      "needs_background": "light"
     },
     "output_type": "display_data"
    }
   ],
   "source": [
    "plt.hist(metadata_path['Channels'], rwidth=0.9, color='#FF0000')\n",
    "plt.rcParams['figure.figsize'] = (11,7)\n",
    "plt.xlabel('Canais')\n",
    "plt.ylabel('População')\n",
    "plt.title('Histograma dos canais dos aúdios dos áudios (s)')\n",
    "plt.grid(False)\n",
    "plt.show()"
   ]
  },
  {
   "cell_type": "markdown",
   "metadata": {},
   "source": [
    "## Gráfico das Classes dos aúdios"
   ]
  },
  {
   "cell_type": "code",
   "execution_count": 22,
   "metadata": {},
   "outputs": [
    {
     "ename": "ValueError",
     "evalue": "color kwarg must have one color per data set. 698 data sets and 1 colors were provided",
     "output_type": "error",
     "traceback": [
      "\u001b[0;31m---------------------------------------------------------------------------\u001b[0m",
      "\u001b[0;31mValueError\u001b[0m                                Traceback (most recent call last)",
      "\u001b[0;32m<ipython-input-22-ae08c4a501e6>\u001b[0m in \u001b[0;36m<module>\u001b[0;34m\u001b[0m\n\u001b[0;32m----> 1\u001b[0;31m \u001b[0mplt\u001b[0m\u001b[0;34m.\u001b[0m\u001b[0mhist\u001b[0m\u001b[0;34m(\u001b[0m\u001b[0mmetadata_path\u001b[0m\u001b[0;34m[\u001b[0m\u001b[0;34m'Class'\u001b[0m\u001b[0;34m]\u001b[0m\u001b[0;34m,\u001b[0m \u001b[0mrwidth\u001b[0m\u001b[0;34m=\u001b[0m\u001b[0;36m0.9\u001b[0m\u001b[0;34m,\u001b[0m \u001b[0mcolor\u001b[0m\u001b[0;34m=\u001b[0m\u001b[0;34m'#40FF40'\u001b[0m\u001b[0;34m)\u001b[0m\u001b[0;34m\u001b[0m\u001b[0;34m\u001b[0m\u001b[0m\n\u001b[0m\u001b[1;32m      2\u001b[0m \u001b[0mplt\u001b[0m\u001b[0;34m.\u001b[0m\u001b[0mrcParams\u001b[0m\u001b[0;34m[\u001b[0m\u001b[0;34m'figure.figsize'\u001b[0m\u001b[0;34m]\u001b[0m \u001b[0;34m=\u001b[0m \u001b[0;34m(\u001b[0m\u001b[0;36m11\u001b[0m\u001b[0;34m,\u001b[0m\u001b[0;36m7\u001b[0m\u001b[0;34m)\u001b[0m\u001b[0;34m\u001b[0m\u001b[0;34m\u001b[0m\u001b[0m\n\u001b[1;32m      3\u001b[0m \u001b[0mplt\u001b[0m\u001b[0;34m.\u001b[0m\u001b[0mxlabel\u001b[0m\u001b[0;34m(\u001b[0m\u001b[0;34m'Classes'\u001b[0m\u001b[0;34m)\u001b[0m\u001b[0;34m\u001b[0m\u001b[0;34m\u001b[0m\u001b[0m\n\u001b[1;32m      4\u001b[0m \u001b[0mplt\u001b[0m\u001b[0;34m.\u001b[0m\u001b[0mxticks\u001b[0m\u001b[0;34m(\u001b[0m\u001b[0mrotation\u001b[0m\u001b[0;34m=\u001b[0m\u001b[0;36m90\u001b[0m\u001b[0;34m)\u001b[0m\u001b[0;34m\u001b[0m\u001b[0;34m\u001b[0m\u001b[0m\n\u001b[1;32m      5\u001b[0m \u001b[0mplt\u001b[0m\u001b[0;34m.\u001b[0m\u001b[0mylabel\u001b[0m\u001b[0;34m(\u001b[0m\u001b[0;34m'População'\u001b[0m\u001b[0;34m)\u001b[0m\u001b[0;34m\u001b[0m\u001b[0;34m\u001b[0m\u001b[0m\n",
      "\u001b[0;32m~/anaconda3/lib/python3.7/site-packages/matplotlib/pyplot.py\u001b[0m in \u001b[0;36mhist\u001b[0;34m(x, bins, range, density, weights, cumulative, bottom, histtype, align, orientation, rwidth, log, color, label, stacked, normed, data, **kwargs)\u001b[0m\n\u001b[1;32m   2634\u001b[0m         \u001b[0malign\u001b[0m\u001b[0;34m=\u001b[0m\u001b[0malign\u001b[0m\u001b[0;34m,\u001b[0m \u001b[0morientation\u001b[0m\u001b[0;34m=\u001b[0m\u001b[0morientation\u001b[0m\u001b[0;34m,\u001b[0m \u001b[0mrwidth\u001b[0m\u001b[0;34m=\u001b[0m\u001b[0mrwidth\u001b[0m\u001b[0;34m,\u001b[0m \u001b[0mlog\u001b[0m\u001b[0;34m=\u001b[0m\u001b[0mlog\u001b[0m\u001b[0;34m,\u001b[0m\u001b[0;34m\u001b[0m\u001b[0;34m\u001b[0m\u001b[0m\n\u001b[1;32m   2635\u001b[0m         \u001b[0mcolor\u001b[0m\u001b[0;34m=\u001b[0m\u001b[0mcolor\u001b[0m\u001b[0;34m,\u001b[0m \u001b[0mlabel\u001b[0m\u001b[0;34m=\u001b[0m\u001b[0mlabel\u001b[0m\u001b[0;34m,\u001b[0m \u001b[0mstacked\u001b[0m\u001b[0;34m=\u001b[0m\u001b[0mstacked\u001b[0m\u001b[0;34m,\u001b[0m \u001b[0mnormed\u001b[0m\u001b[0;34m=\u001b[0m\u001b[0mnormed\u001b[0m\u001b[0;34m,\u001b[0m\u001b[0;34m\u001b[0m\u001b[0;34m\u001b[0m\u001b[0m\n\u001b[0;32m-> 2636\u001b[0;31m         **({\"data\": data} if data is not None else {}), **kwargs)\n\u001b[0m\u001b[1;32m   2637\u001b[0m \u001b[0;34m\u001b[0m\u001b[0m\n\u001b[1;32m   2638\u001b[0m \u001b[0;34m\u001b[0m\u001b[0m\n",
      "\u001b[0;32m~/anaconda3/lib/python3.7/site-packages/matplotlib/__init__.py\u001b[0m in \u001b[0;36minner\u001b[0;34m(ax, data, *args, **kwargs)\u001b[0m\n\u001b[1;32m   1587\u001b[0m     \u001b[0;32mdef\u001b[0m \u001b[0minner\u001b[0m\u001b[0;34m(\u001b[0m\u001b[0max\u001b[0m\u001b[0;34m,\u001b[0m \u001b[0;34m*\u001b[0m\u001b[0margs\u001b[0m\u001b[0;34m,\u001b[0m \u001b[0mdata\u001b[0m\u001b[0;34m=\u001b[0m\u001b[0;32mNone\u001b[0m\u001b[0;34m,\u001b[0m \u001b[0;34m**\u001b[0m\u001b[0mkwargs\u001b[0m\u001b[0;34m)\u001b[0m\u001b[0;34m:\u001b[0m\u001b[0;34m\u001b[0m\u001b[0;34m\u001b[0m\u001b[0m\n\u001b[1;32m   1588\u001b[0m         \u001b[0;32mif\u001b[0m \u001b[0mdata\u001b[0m \u001b[0;32mis\u001b[0m \u001b[0;32mNone\u001b[0m\u001b[0;34m:\u001b[0m\u001b[0;34m\u001b[0m\u001b[0;34m\u001b[0m\u001b[0m\n\u001b[0;32m-> 1589\u001b[0;31m             \u001b[0;32mreturn\u001b[0m \u001b[0mfunc\u001b[0m\u001b[0;34m(\u001b[0m\u001b[0max\u001b[0m\u001b[0;34m,\u001b[0m \u001b[0;34m*\u001b[0m\u001b[0mmap\u001b[0m\u001b[0;34m(\u001b[0m\u001b[0msanitize_sequence\u001b[0m\u001b[0;34m,\u001b[0m \u001b[0margs\u001b[0m\u001b[0;34m)\u001b[0m\u001b[0;34m,\u001b[0m \u001b[0;34m**\u001b[0m\u001b[0mkwargs\u001b[0m\u001b[0;34m)\u001b[0m\u001b[0;34m\u001b[0m\u001b[0;34m\u001b[0m\u001b[0m\n\u001b[0m\u001b[1;32m   1590\u001b[0m \u001b[0;34m\u001b[0m\u001b[0m\n\u001b[1;32m   1591\u001b[0m         \u001b[0mbound\u001b[0m \u001b[0;34m=\u001b[0m \u001b[0mnew_sig\u001b[0m\u001b[0;34m.\u001b[0m\u001b[0mbind\u001b[0m\u001b[0;34m(\u001b[0m\u001b[0max\u001b[0m\u001b[0;34m,\u001b[0m \u001b[0;34m*\u001b[0m\u001b[0margs\u001b[0m\u001b[0;34m,\u001b[0m \u001b[0;34m**\u001b[0m\u001b[0mkwargs\u001b[0m\u001b[0;34m)\u001b[0m\u001b[0;34m\u001b[0m\u001b[0;34m\u001b[0m\u001b[0m\n",
      "\u001b[0;32m~/anaconda3/lib/python3.7/site-packages/matplotlib/axes/_axes.py\u001b[0m in \u001b[0;36mhist\u001b[0;34m(self, x, bins, range, density, weights, cumulative, bottom, histtype, align, orientation, rwidth, log, color, label, stacked, normed, **kwargs)\u001b[0m\n\u001b[1;32m   6705\u001b[0m                     \u001b[0;34m\"color kwarg must have one color per data set. %d data \"\u001b[0m\u001b[0;34m\u001b[0m\u001b[0;34m\u001b[0m\u001b[0m\n\u001b[1;32m   6706\u001b[0m                     \"sets and %d colors were provided\" % (nx, len(color)))\n\u001b[0;32m-> 6707\u001b[0;31m                 \u001b[0;32mraise\u001b[0m \u001b[0mValueError\u001b[0m\u001b[0;34m(\u001b[0m\u001b[0merror_message\u001b[0m\u001b[0;34m)\u001b[0m\u001b[0;34m\u001b[0m\u001b[0;34m\u001b[0m\u001b[0m\n\u001b[0m\u001b[1;32m   6708\u001b[0m \u001b[0;34m\u001b[0m\u001b[0m\n\u001b[1;32m   6709\u001b[0m         \u001b[0mhist_kwargs\u001b[0m \u001b[0;34m=\u001b[0m \u001b[0mdict\u001b[0m\u001b[0;34m(\u001b[0m\u001b[0;34m)\u001b[0m\u001b[0;34m\u001b[0m\u001b[0;34m\u001b[0m\u001b[0m\n",
      "\u001b[0;31mValueError\u001b[0m: color kwarg must have one color per data set. 698 data sets and 1 colors were provided"
     ]
    },
    {
     "data": {
      "image/png": "[encoded data removed]",
      "text/plain": [
       "<Figure size 792x504 with 1 Axes>"
      ]
     },
     "metadata": {
      "needs_background": "light"
     },
     "output_type": "display_data"
    }
   ],
   "source": [
    "plt.hist(metadata_path['Class'], rwidth=0.9, color='#40FF40')\n",
    "plt.rcParams['figure.figsize'] = (11,7)\n",
    "plt.xlabel('Classes')\n",
    "plt.xticks(rotation=90)\n",
    "plt.ylabel('População')\n",
    "plt.title('Histograma dos Classes dos aúdios dos áudios (s)')\n",
    "plt.grid(False)\n",
    "plt.show()"
   ]
  },
  {
   "cell_type": "markdown",
   "metadata": {},
   "source": [
    "# Quantidade de aúdios por classe"
   ]
  },
  {
   "cell_type": "code",
   "execution_count": 14,
   "metadata": {},
   "outputs": [
    {
     "name": "stdout",
     "output_type": "stream",
     "text": [
      "               Class\n",
      "ChaChaCha        111\n",
      "Waltz            110\n",
      "Rumba             98\n",
      "Samba             86\n",
      "Tango             86\n",
      "Quickstep         82\n",
      "VienneseWaltz     65\n",
      "Jive              60\n"
     ]
    }
   ],
   "source": [
    "print(metadata_path['Class'].value_counts().to_frame())"
   ]
  },
  {
   "cell_type": "code",
   "execution_count": null,
   "metadata": {},
   "outputs": [],
   "source": []
  }
 ],
 "metadata": {
  "colab": {
   "collapsed_sections": [],
   "name": "classes_de_TEIA.ipynb",
   "provenance": []
  },
  "kernelspec": {
   "display_name": "Python 3",
   "language": "python",
   "name": "python3"
  },
  "language_info": {
   "codemirror_mode": {
    "name": "ipython",
    "version": 3
   },
   "file_extension": ".py",
   "mimetype": "text/x-python",
   "name": "python",
   "nbconvert_exporter": "python",
   "pygments_lexer": "ipython3",
   "version": "3.7.3"
  }
 },
 "nbformat": 4,
 "nbformat_minor": 1
}
