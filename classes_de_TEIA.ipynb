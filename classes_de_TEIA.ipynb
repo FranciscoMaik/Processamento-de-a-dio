{
 "cells": [
  {
   "cell_type": "markdown",
   "metadata": {
    "colab_type": "text",
    "id": "1GQQel_Nicq5"
   },
   "source": [
    "# Importação das Bibliotecas"
   ]
  },
  {
   "cell_type": "code",
   "execution_count": 1,
   "metadata": {
    "colab": {
     "base_uri": "https://localhost:8080/",
     "height": 34
    },
    "colab_type": "code",
    "id": "k6iBeiMIhxOg",
    "outputId": "452cd361-6857-4985-aefd-aded13c6bc0b"
   },
   "outputs": [],
   "source": [
    "import numpy as np\n",
    "import pandas as pd\n",
    "import wave\n",
    "import struct\n",
    "import matplotlib.pyplot as plt\n",
    "import glob\n",
    "import os\n",
    "\n",
    "path = os.getcwd()\n",
    "# name_bases = os.listdir('Trabalho_de_processamento/Ballroom/')\n",
    "\n"
   ]
  },
  {
   "cell_type": "markdown",
   "metadata": {
    "colab_type": "text",
    "id": "kz8i_xF763zI"
   },
   "source": [
    "# Variaveis global"
   ]
  },
  {
   "cell_type": "code",
   "execution_count": 2,
   "metadata": {
    "colab": {},
    "colab_type": "code",
    "id": "tZsBiTaP4rPW"
   },
   "outputs": [],
   "source": [
    "\n",
    "arquivo= glob.glob(path+f'/Ballroom/*/*.wav')\n",
    "linha = len(arquivo)\n",
    "contador = 0\n"
   ]
  },
  {
   "cell_type": "markdown",
   "metadata": {
    "colab_type": "text",
    "id": "AC7PS_bJ1vem"
   },
   "source": [
    "# Criando a Matriz de armazenamento de dados"
   ]
  },
  {
   "cell_type": "code",
   "execution_count": 3,
   "metadata": {
    "colab": {},
    "colab_type": "code",
    "id": "XnxZt_lm1z0g"
   },
   "outputs": [],
   "source": [
    "matriz = []\n",
    "for i in range(linha):\n",
    "    matriz.append([])\n",
    "    for j in range(5):\n",
    "        matriz[i].append([])"
   ]
  },
  {
   "cell_type": "markdown",
   "metadata": {
    "colab_type": "text",
    "id": "DYKErfxgiwDz"
   },
   "source": [
    "# Função de Extrassão de Caracteristicas\n"
   ]
  },
  {
   "cell_type": "code",
   "execution_count": 4,
   "metadata": {
    "colab": {},
    "colab_type": "code",
    "id": "CzwDwY2PiEb2"
   },
   "outputs": [],
   "source": [
    "def extrassao_de_dados_da_classe(caminho,linhas):\n",
    "    opened_audio = wave.open(caminho, \"rb\").getparams()\n",
    "    \n",
    "    \n",
    "    #pegar nome da pasta\n",
    "    final = caminho.rfind(\"/\")\n",
    "    inicio = caminho.rfind(\"/\",1,final-1)\n",
    "    nome_base=caminho[inicio+1:final]\n",
    "    \n",
    "       \n",
    "    armazena_dados_na_matriz(opened_audio[2], opened_audio[0], (opened_audio[1]**4), opened_audio[3]/opened_audio[2], nome_base)\n",
    "    \n",
    "    return contador + 1\n",
    "    "
   ]
  },
  {
   "cell_type": "markdown",
   "metadata": {
    "colab_type": "text",
    "id": "Dm_Al5pC6zdm"
   },
   "source": [
    "# Salva os dados na matriz"
   ]
  },
  {
   "cell_type": "code",
   "execution_count": 5,
   "metadata": {
    "colab": {},
    "colab_type": "code",
    "id": "ohBwdEHO4eq4"
   },
   "outputs": [],
   "source": [
    "def armazena_dados_na_matriz(taxa,canais,bits,duracao, nome_base):\n",
    "    matriz[contador][0] = taxa\n",
    "    matriz[contador][1] = canais\n",
    "    matriz[contador][2] = bits\n",
    "    matriz[contador][3] = duracao\n",
    "    matriz[contador][4] = nome_base\n"
   ]
  },
  {
   "cell_type": "markdown",
   "metadata": {
    "colab_type": "text",
    "id": "ONuWtMsNi-8B"
   },
   "source": [
    "# Abre todos os aquivos .wav da pasta (Nome da pasta)\n"
   ]
  },
  {
   "cell_type": "code",
   "execution_count": 6,
   "metadata": {
    "colab": {},
    "colab_type": "code",
    "id": "jquZcRc_iWQL"
   },
   "outputs": [],
   "source": [
    "for i in arquivo:\n",
    "    contador = extrassao_de_dados_da_classe(i,linha)\n",
    "    "
   ]
  },
  {
   "cell_type": "markdown",
   "metadata": {},
   "source": [
    "# Salvando arquivo .csv"
   ]
  },
  {
   "cell_type": "code",
   "execution_count": 7,
   "metadata": {
    "colab": {},
    "colab_type": "code",
    "id": "ylKaj8Ns91bC"
   },
   "outputs": [],
   "source": [
    "cabecario = ['Sampling_Rate','Channels','Bits','Duration','Class']\n",
    "pd.DataFrame(matriz).to_csv(path+f\"/csv/Base_Ballroom.csv\", header = cabecario)"
   ]
  },
  {
   "cell_type": "code",
   "execution_count": 8,
   "metadata": {},
   "outputs": [
    {
     "data": {
      "text/html": [
       "<div>\n",
       "<style scoped>\n",
       "    .dataframe tbody tr th:only-of-type {\n",
       "        vertical-align: middle;\n",
       "    }\n",
       "\n",
       "    .dataframe tbody tr th {\n",
       "        vertical-align: top;\n",
       "    }\n",
       "\n",
       "    .dataframe thead th {\n",
       "        text-align: right;\n",
       "    }\n",
       "</style>\n",
       "<table border=\"1\" class=\"dataframe\">\n",
       "  <thead>\n",
       "    <tr style=\"text-align: right;\">\n",
       "      <th></th>\n",
       "      <th>Sampling_Rate</th>\n",
       "      <th>Channels</th>\n",
       "      <th>Bits</th>\n",
       "      <th>Duration</th>\n",
       "      <th>Class</th>\n",
       "    </tr>\n",
       "  </thead>\n",
       "  <tbody>\n",
       "    <tr>\n",
       "      <th>0</th>\n",
       "      <td>44100</td>\n",
       "      <td>1</td>\n",
       "      <td>16</td>\n",
       "      <td>30.047506</td>\n",
       "      <td>Tango</td>\n",
       "    </tr>\n",
       "    <tr>\n",
       "      <th>1</th>\n",
       "      <td>44100</td>\n",
       "      <td>1</td>\n",
       "      <td>16</td>\n",
       "      <td>31.787937</td>\n",
       "      <td>Tango</td>\n",
       "    </tr>\n",
       "    <tr>\n",
       "      <th>2</th>\n",
       "      <td>44100</td>\n",
       "      <td>1</td>\n",
       "      <td>16</td>\n",
       "      <td>30.092336</td>\n",
       "      <td>Tango</td>\n",
       "    </tr>\n",
       "    <tr>\n",
       "      <th>3</th>\n",
       "      <td>44100</td>\n",
       "      <td>1</td>\n",
       "      <td>16</td>\n",
       "      <td>31.787937</td>\n",
       "      <td>Tango</td>\n",
       "    </tr>\n",
       "    <tr>\n",
       "      <th>4</th>\n",
       "      <td>44100</td>\n",
       "      <td>1</td>\n",
       "      <td>16</td>\n",
       "      <td>31.787937</td>\n",
       "      <td>Tango</td>\n",
       "    </tr>\n",
       "    <tr>\n",
       "      <th>...</th>\n",
       "      <td>...</td>\n",
       "      <td>...</td>\n",
       "      <td>...</td>\n",
       "      <td>...</td>\n",
       "      <td>...</td>\n",
       "    </tr>\n",
       "    <tr>\n",
       "      <th>693</th>\n",
       "      <td>44100</td>\n",
       "      <td>1</td>\n",
       "      <td>16</td>\n",
       "      <td>31.787937</td>\n",
       "      <td>Waltz</td>\n",
       "    </tr>\n",
       "    <tr>\n",
       "      <th>694</th>\n",
       "      <td>44100</td>\n",
       "      <td>1</td>\n",
       "      <td>16</td>\n",
       "      <td>31.787937</td>\n",
       "      <td>Waltz</td>\n",
       "    </tr>\n",
       "    <tr>\n",
       "      <th>695</th>\n",
       "      <td>44100</td>\n",
       "      <td>1</td>\n",
       "      <td>16</td>\n",
       "      <td>30.143537</td>\n",
       "      <td>Waltz</td>\n",
       "    </tr>\n",
       "    <tr>\n",
       "      <th>696</th>\n",
       "      <td>44100</td>\n",
       "      <td>1</td>\n",
       "      <td>16</td>\n",
       "      <td>31.787937</td>\n",
       "      <td>Waltz</td>\n",
       "    </tr>\n",
       "    <tr>\n",
       "      <th>697</th>\n",
       "      <td>44100</td>\n",
       "      <td>1</td>\n",
       "      <td>16</td>\n",
       "      <td>30.719501</td>\n",
       "      <td>Waltz</td>\n",
       "    </tr>\n",
       "  </tbody>\n",
       "</table>\n",
       "<p>698 rows × 5 columns</p>\n",
       "</div>"
      ],
      "text/plain": [
       "     Sampling_Rate  Channels  Bits   Duration  Class\n",
       "0            44100         1    16  30.047506  Tango\n",
       "1            44100         1    16  31.787937  Tango\n",
       "2            44100         1    16  30.092336  Tango\n",
       "3            44100         1    16  31.787937  Tango\n",
       "4            44100         1    16  31.787937  Tango\n",
       "..             ...       ...   ...        ...    ...\n",
       "693          44100         1    16  31.787937  Waltz\n",
       "694          44100         1    16  31.787937  Waltz\n",
       "695          44100         1    16  30.143537  Waltz\n",
       "696          44100         1    16  31.787937  Waltz\n",
       "697          44100         1    16  30.719501  Waltz\n",
       "\n",
       "[698 rows x 5 columns]"
      ]
     },
     "execution_count": 8,
     "metadata": {},
     "output_type": "execute_result"
    }
   ],
   "source": [
    "#mostrar arquivo\n",
    "metadata_path = pd.read_csv(path+f\"/csv/Base_Ballroom.csv\",index_col = 0)\n",
    "metadata_path\n",
    "  "
   ]
  },
  {
   "cell_type": "markdown",
   "metadata": {},
   "source": [
    "# Plotagem de gráficos"
   ]
  },
  {
   "cell_type": "markdown",
   "metadata": {},
   "source": [
    "## Gráfico do Tamanho dos aúdios"
   ]
  },
  {
   "cell_type": "code",
   "execution_count": 9,
   "metadata": {},
   "outputs": [
    {
     "data": {
      "image/png": "[encoded data removed]",
      "text/plain": [
       "<Figure size 432x288 with 1 Axes>"
      ]
     },
     "metadata": {
      "needs_background": "light"
     },
     "output_type": "display_data"
    }
   ],
   "source": [
    "plt.hist(metadata_path['Duration'], rwidth=0.9, color='#54CC14')\n",
    "plt.rcParams['figure.figsize'] = (11,7)\n",
    "plt.xlabel('Duração')\n",
    "plt.ylabel('População')\n",
    "plt.title('Histograma da duração dos aúdios dos áudios (s)')\n",
    "plt.grid(False)\n",
    "plt.show()\n",
    "\n"
   ]
  },
  {
   "cell_type": "markdown",
   "metadata": {},
   "source": [
    "## Gráfico da Frequência dos aúdios"
   ]
  },
  {
   "cell_type": "code",
   "execution_count": 10,
   "metadata": {},
   "outputs": [
    {
     "data": {
      "image/png": "[encoded data removed]",
      "text/plain": [
       "<Figure size 792x504 with 1 Axes>"
      ]
     },
     "metadata": {
      "needs_background": "light"
     },
     "output_type": "display_data"
    }
   ],
   "source": [
    "plt.hist(metadata_path['Sampling_Rate'], rwidth=0.9, color='#CC4A14')\n",
    "plt.rcParams['figure.figsize'] = (11,7)\n",
    "plt.xlabel('Taxa de Amostragem')\n",
    "plt.ylabel('População')\n",
    "plt.title('Histograma da frequência dos aúdios dos áudios (s)')\n",
    "plt.grid(False)\n",
    "plt.show()"
   ]
  },
  {
   "cell_type": "markdown",
   "metadata": {},
   "source": [
    "## Gráfico dos Bits dos aúdios"
   ]
  },
  {
   "cell_type": "code",
   "execution_count": 11,
   "metadata": {},
   "outputs": [
    {
     "data": {
      "image/png": "[encoded data removed]",
      "text/plain": [
       "<Figure size 792x504 with 1 Axes>"
      ]
     },
     "metadata": {
      "needs_background": "light"
     },
     "output_type": "display_data"
    }
   ],
   "source": [
    "plt.hist(metadata_path['Bits'], rwidth=0.9, color='#99583D')\n",
    "plt.rcParams['figure.figsize'] = (11,7)\n",
    "plt.xlabel('Bits')\n",
    "plt.ylabel('População')\n",
    "plt.title('Histograma dos Bits dos aúdios dos áudios (s)')\n",
    "plt.grid(False)\n",
    "plt.show()"
   ]
  },
  {
   "cell_type": "markdown",
   "metadata": {},
   "source": [
    "## Gráfico dos Canais dos aúdios"
   ]
  },
  {
   "cell_type": "code",
   "execution_count": 12,
   "metadata": {},
   "outputs": [
    {
     "data": {
      "image/png": "[encoded data removed]",
      "text/plain": [
       "<Figure size 792x504 with 1 Axes>"
      ]
     },
     "metadata": {
      "needs_background": "light"
     },
     "output_type": "display_data"
    }
   ],
   "source": [
    "plt.hist(metadata_path['Channels'], rwidth=0.9, color='#FF0000')\n",
    "plt.rcParams['figure.figsize'] = (11,7)\n",
    "plt.xlabel('Canais')\n",
    "plt.ylabel('População')\n",
    "plt.title('Histograma dos canais dos aúdios dos áudios (s)')\n",
    "plt.grid(False)\n",
    "plt.show()"
   ]
  },
  {
   "cell_type": "markdown",
   "metadata": {},
   "source": [
    "## Gráfico das Classes dos aúdios"
   ]
  },
  {
   "cell_type": "code",
   "execution_count": 13,
   "metadata": {},
   "outputs": [
    {
     "data": {
      "image/png": "[encoded data removed]",
      "text/plain": [
       "<Figure size 792x504 with 1 Axes>"
      ]
     },
     "metadata": {
      "needs_background": "light"
     },
     "output_type": "display_data"
    }
   ],
   "source": [
    "plt.hist(metadata_path['Class'], rwidth=0.9, color='#40FF40')\n",
    "plt.rcParams['figure.figsize'] = (11,7)\n",
    "plt.xlabel('Classes')\n",
    "plt.xticks(rotation=90)\n",
    "plt.ylabel('População')\n",
    "plt.title('Histograma dos Classes dos aúdios dos áudios (s)')\n",
    "plt.grid(False)\n",
    "plt.show()"
   ]
  },
  {
   "cell_type": "markdown",
   "metadata": {},
   "source": [
    "# Quantidade de aúdios por classe"
   ]
  },
  {
   "cell_type": "code",
   "execution_count": 14,
   "metadata": {},
   "outputs": [
    {
     "name": "stdout",
     "output_type": "stream",
     "text": [
      "               Class\n",
      "ChaChaCha        111\n",
      "Waltz            110\n",
      "Rumba             98\n",
      "Samba             86\n",
      "Tango             86\n",
      "Quickstep         82\n",
      "VienneseWaltz     65\n",
      "Jive              60\n"
     ]
    }
   ],
   "source": [
    "print(metadata_path['Class'].value_counts().to_frame())"
   ]
  },
  {
   "cell_type": "code",
   "execution_count": null,
   "metadata": {},
   "outputs": [],
   "source": []
  }
 ],
 "metadata": {
  "colab": {
   "collapsed_sections": [],
   "name": "classes_de_TEIA.ipynb",
   "provenance": []
  },
  "kernelspec": {
   "display_name": "Python 3",
   "language": "python",
   "name": "python3"
  },
  "language_info": {
   "codemirror_mode": {
    "name": "ipython",
    "version": 3
   },
   "file_extension": ".py",
   "mimetype": "text/x-python",
   "name": "python",
   "nbconvert_exporter": "python",
   "pygments_lexer": "ipython3",
   "version": "3.7.3"
  }
 },
 "nbformat": 4,
 "nbformat_minor": 1
}
