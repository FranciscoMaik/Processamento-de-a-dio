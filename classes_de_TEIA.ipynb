{
 "cells": [
  {
   "cell_type": "markdown",
   "metadata": {
    "colab_type": "text",
    "id": "1GQQel_Nicq5"
   },
   "source": [
    "# Importação das Bibliotecas"
   ]
  },
  {
   "cell_type": "code",
   "execution_count": 1,
   "metadata": {
    "colab": {
     "base_uri": "https://localhost:8080/",
     "height": 34
    },
    "colab_type": "code",
    "id": "k6iBeiMIhxOg",
    "outputId": "452cd361-6857-4985-aefd-aded13c6bc0b"
   },
   "outputs": [],
   "source": [
    "import numpy as np\n",
    "import pandas as pd\n",
    "from scipy.io import wavfile as wav\n",
    "import struct\n",
    "import matplotlib.pyplot as plt\n",
    "import glob\n",
    "import os\n",
    "\n",
    "path = os.getcwd()\n",
    "# name_bases = os.listdir('Trabalho_de_processamento/Ballroom/')\n",
    "\n"
   ]
  },
  {
   "cell_type": "markdown",
   "metadata": {
    "colab_type": "text",
    "id": "kz8i_xF763zI"
   },
   "source": [
    "# Variaveis global"
   ]
  },
  {
   "cell_type": "code",
   "execution_count": 2,
   "metadata": {
    "colab": {},
    "colab_type": "code",
    "id": "tZsBiTaP4rPW"
   },
   "outputs": [],
   "source": [
    "\n",
    "arquivo= glob.glob(path+f'/Ballroom/*/*.wav')\n",
    "linha = len(arquivo)\n",
    "contador = 0\n"
   ]
  },
  {
   "cell_type": "markdown",
   "metadata": {
    "colab_type": "text",
    "id": "AC7PS_bJ1vem"
   },
   "source": [
    "# Criando a Matriz de armazenamento de dados"
   ]
  },
  {
   "cell_type": "code",
   "execution_count": 3,
   "metadata": {
    "colab": {},
    "colab_type": "code",
    "id": "XnxZt_lm1z0g"
   },
   "outputs": [],
   "source": [
    "matriz = []\n",
    "for i in range(linha):\n",
    "    matriz.append([])\n",
    "    for j in range(5):\n",
    "        matriz[i].append([])"
   ]
  },
  {
   "cell_type": "markdown",
   "metadata": {
    "colab_type": "text",
    "id": "DYKErfxgiwDz"
   },
   "source": [
    "# Função de Extrassão de Caracteristicas\n"
   ]
  },
  {
   "cell_type": "code",
   "execution_count": 4,
   "metadata": {
    "colab": {},
    "colab_type": "code",
    "id": "CzwDwY2PiEb2"
   },
   "outputs": [],
   "source": [
    "def extrassao_de_dados_da_classe(caminho,linhas):\n",
    "    rate, wav_sample = wav.read(caminho)\n",
    "    wave_file = open(caminho,\"rb\")\n",
    "    riff_fmt = wave_file.read(36)\n",
    "    bit_depth_string = riff_fmt[-2:]\n",
    "    bit_depth = struct.unpack(\"H\",bit_depth_string)[0]\n",
    "  \n",
    "    #pegar nome da pasta\n",
    "    final = caminho.rfind(\"/\")\n",
    "    inicio = caminho.rfind(\"/\",1,final-1)\n",
    "    nome_base=caminho[inicio+1:final]\n",
    "\n",
    "   \n",
    "    armazena_dados_na_matriz(rate,wav_sample.shape[0],bit_depth,wav_sample.shape[0]/rate,nome_base)\n",
    "    \n",
    "    return contador + 1\n",
    "    "
   ]
  },
  {
   "cell_type": "markdown",
   "metadata": {
    "colab_type": "text",
    "id": "Dm_Al5pC6zdm"
   },
   "source": [
    "# Salva os dados na matriz"
   ]
  },
  {
   "cell_type": "code",
   "execution_count": 5,
   "metadata": {
    "colab": {},
    "colab_type": "code",
    "id": "ohBwdEHO4eq4"
   },
   "outputs": [],
   "source": [
    "def armazena_dados_na_matriz(taxa,canais,bits,duracao,nome_base):\n",
    "    matriz[contador][0] = duracao\n",
    "    matriz[contador][1] = taxa\n",
    "    matriz[contador][2] = bits\n",
    "    matriz[contador][3] = canais\n",
    "    matriz[contador][4] = nome_base\n"
   ]
  },
  {
   "cell_type": "markdown",
   "metadata": {
    "colab_type": "text",
    "id": "ONuWtMsNi-8B"
   },
   "source": [
    "# Abre todos os aquivos .wav da pasta (Nome da pasta)\n"
   ]
  },
  {
   "cell_type": "code",
   "execution_count": 6,
   "metadata": {
    "colab": {},
    "colab_type": "code",
    "id": "jquZcRc_iWQL"
   },
   "outputs": [
    {
     "name": "stderr",
     "output_type": "stream",
     "text": [
      "/home/arlaxad/Documentos/TEIA/processamento/processo_env/lib/python3.7/site-packages/ipykernel_launcher.py:2: WavFileWarning: Chunk (non-data) not understood, skipping it.\n",
      "  \n"
     ]
    }
   ],
   "source": [
    "for i in arquivo:\n",
    "    contador = extrassao_de_dados_da_classe(i,linha)\n",
    "    "
   ]
  },
  {
   "cell_type": "markdown",
   "metadata": {},
   "source": [
    "# Salvando arquivo .csv"
   ]
  },
  {
   "cell_type": "code",
   "execution_count": 23,
   "metadata": {
    "colab": {},
    "colab_type": "code",
    "id": "ylKaj8Ns91bC"
   },
   "outputs": [],
   "source": [
    "cabecario = ['Duration','Frequency','Bits','Channels','Class']\n",
    "pd.DataFrame(matriz).to_csv(path+f\"/csv/Base_Ballroom.csv\", header = cabecario)"
   ]
  },
  {
   "cell_type": "code",
   "execution_count": 15,
   "metadata": {},
   "outputs": [
    {
     "data": {
      "text/html": [
       "<div>\n",
       "<style scoped>\n",
       "    .dataframe tbody tr th:only-of-type {\n",
       "        vertical-align: middle;\n",
       "    }\n",
       "\n",
       "    .dataframe tbody tr th {\n",
       "        vertical-align: top;\n",
       "    }\n",
       "\n",
       "    .dataframe thead th {\n",
       "        text-align: right;\n",
       "    }\n",
       "</style>\n",
       "<table border=\"1\" class=\"dataframe\">\n",
       "  <thead>\n",
       "    <tr style=\"text-align: right;\">\n",
       "      <th></th>\n",
       "      <th>Duration</th>\n",
       "      <th>Frequency</th>\n",
       "      <th>Bits</th>\n",
       "      <th>Channels</th>\n",
       "      <th>Class</th>\n",
       "    </tr>\n",
       "  </thead>\n",
       "  <tbody>\n",
       "    <tr>\n",
       "      <th>0</th>\n",
       "      <td>30.047506</td>\n",
       "      <td>44100</td>\n",
       "      <td>16</td>\n",
       "      <td>1325095</td>\n",
       "      <td>Tango</td>\n",
       "    </tr>\n",
       "    <tr>\n",
       "      <th>1</th>\n",
       "      <td>31.787937</td>\n",
       "      <td>44100</td>\n",
       "      <td>16</td>\n",
       "      <td>1401848</td>\n",
       "      <td>Tango</td>\n",
       "    </tr>\n",
       "    <tr>\n",
       "      <th>2</th>\n",
       "      <td>30.092336</td>\n",
       "      <td>44100</td>\n",
       "      <td>16</td>\n",
       "      <td>1327072</td>\n",
       "      <td>Tango</td>\n",
       "    </tr>\n",
       "    <tr>\n",
       "      <th>3</th>\n",
       "      <td>31.787937</td>\n",
       "      <td>44100</td>\n",
       "      <td>16</td>\n",
       "      <td>1401848</td>\n",
       "      <td>Tango</td>\n",
       "    </tr>\n",
       "    <tr>\n",
       "      <th>4</th>\n",
       "      <td>31.787937</td>\n",
       "      <td>44100</td>\n",
       "      <td>16</td>\n",
       "      <td>1401848</td>\n",
       "      <td>Tango</td>\n",
       "    </tr>\n",
       "    <tr>\n",
       "      <th>...</th>\n",
       "      <td>...</td>\n",
       "      <td>...</td>\n",
       "      <td>...</td>\n",
       "      <td>...</td>\n",
       "      <td>...</td>\n",
       "    </tr>\n",
       "    <tr>\n",
       "      <th>693</th>\n",
       "      <td>31.787937</td>\n",
       "      <td>44100</td>\n",
       "      <td>16</td>\n",
       "      <td>1401848</td>\n",
       "      <td>Waltz</td>\n",
       "    </tr>\n",
       "    <tr>\n",
       "      <th>694</th>\n",
       "      <td>31.787937</td>\n",
       "      <td>44100</td>\n",
       "      <td>16</td>\n",
       "      <td>1401848</td>\n",
       "      <td>Waltz</td>\n",
       "    </tr>\n",
       "    <tr>\n",
       "      <th>695</th>\n",
       "      <td>30.143537</td>\n",
       "      <td>44100</td>\n",
       "      <td>16</td>\n",
       "      <td>1329330</td>\n",
       "      <td>Waltz</td>\n",
       "    </tr>\n",
       "    <tr>\n",
       "      <th>696</th>\n",
       "      <td>31.787937</td>\n",
       "      <td>44100</td>\n",
       "      <td>16</td>\n",
       "      <td>1401848</td>\n",
       "      <td>Waltz</td>\n",
       "    </tr>\n",
       "    <tr>\n",
       "      <th>697</th>\n",
       "      <td>30.719501</td>\n",
       "      <td>44100</td>\n",
       "      <td>16</td>\n",
       "      <td>1354730</td>\n",
       "      <td>Waltz</td>\n",
       "    </tr>\n",
       "  </tbody>\n",
       "</table>\n",
       "<p>698 rows × 5 columns</p>\n",
       "</div>"
      ],
      "text/plain": [
       "      Duration  Frequency  Bits  Channels  Class\n",
       "0    30.047506      44100    16   1325095  Tango\n",
       "1    31.787937      44100    16   1401848  Tango\n",
       "2    30.092336      44100    16   1327072  Tango\n",
       "3    31.787937      44100    16   1401848  Tango\n",
       "4    31.787937      44100    16   1401848  Tango\n",
       "..         ...        ...   ...       ...    ...\n",
       "693  31.787937      44100    16   1401848  Waltz\n",
       "694  31.787937      44100    16   1401848  Waltz\n",
       "695  30.143537      44100    16   1329330  Waltz\n",
       "696  31.787937      44100    16   1401848  Waltz\n",
       "697  30.719501      44100    16   1354730  Waltz\n",
       "\n",
       "[698 rows x 5 columns]"
      ]
     },
     "execution_count": 15,
     "metadata": {},
     "output_type": "execute_result"
    }
   ],
   "source": [
    "#mostrar arquivo\n",
    "metadata_path = pd.read_csv(path+f\"/csv/Base_Ballroom.csv\",index_col = 0)\n",
    "metadata_path\n",
    "  "
   ]
  },
  {
   "cell_type": "markdown",
   "metadata": {},
   "source": [
    "# Plotagem de gráficos"
   ]
  },
  {
   "cell_type": "markdown",
   "metadata": {},
   "source": [
    "## Gráfico do Tamanho dos aúdios"
   ]
  },
  {
   "cell_type": "code",
   "execution_count": 42,
   "metadata": {},
   "outputs": [
    {
     "data": {
      "image/png": "[encoded data removed]",
      "text/plain": [
       "<Figure size 792x504 with 1 Axes>"
      ]
     },
     "metadata": {
      "needs_background": "light"
     },
     "output_type": "display_data"
    }
   ],
   "source": [
    "plt.hist(metadata_path['Duration'], rwidth=0.9, color='#86bf91')\n",
    "plt.rcParams['figure.figsize'] = (11,7)\n",
    "plt.xlabel('Duração')\n",
    "plt.ylabel('População')\n",
    "plt.title('Histograma da duração dos aúdios dos áudios (s)')\n",
    "plt.grid(False)\n",
    "plt.show()\n",
    "\n"
   ]
  },
  {
   "cell_type": "markdown",
   "metadata": {},
   "source": [
    "## Gráfico da Frequência dos aúdios"
   ]
  },
  {
   "cell_type": "code",
   "execution_count": 41,
   "metadata": {},
   "outputs": [
    {
     "data": {
      "image/png": "[encoded data removed]",
      "text/plain": [
       "<Figure size 792x504 with 1 Axes>"
      ]
     },
     "metadata": {
      "needs_background": "light"
     },
     "output_type": "display_data"
    }
   ],
   "source": [
    "plt.hist(metadata_path['Frequency'], rwidth=0.9, color='#86bf91')\n",
    "plt.rcParams['figure.figsize'] = (11,7)\n",
    "plt.xlabel('Duração')\n",
    "plt.ylabel('População')\n",
    "plt.title('Histograma da frequência dos aúdios dos áudios (s)')\n",
    "plt.grid(False)\n",
    "plt.show()"
   ]
  },
  {
   "cell_type": "markdown",
   "metadata": {},
   "source": [
    "## Gráfico dos Bits dos aúdios"
   ]
  },
  {
   "cell_type": "code",
   "execution_count": 40,
   "metadata": {},
   "outputs": [
    {
     "data": {
      "image/png": "[encoded data removed]",
      "text/plain": [
       "<Figure size 792x504 with 1 Axes>"
      ]
     },
     "metadata": {
      "needs_background": "light"
     },
     "output_type": "display_data"
    }
   ],
   "source": [
    "plt.hist(metadata_path['Bits'], rwidth=0.9, color='#86bf91')\n",
    "plt.rcParams['figure.figsize'] = (11,7)\n",
    "plt.xlabel('Duração')\n",
    "plt.ylabel('População')\n",
    "plt.title('Histograma dos Bits dos aúdios dos áudios (s)')\n",
    "plt.grid(False)\n",
    "plt.show()"
   ]
  },
  {
   "cell_type": "markdown",
   "metadata": {},
   "source": [
    "## Gráfico dos Canais dos aúdios"
   ]
  },
  {
   "cell_type": "code",
   "execution_count": 39,
   "metadata": {},
   "outputs": [
    {
     "data": {
      "image/png": "[encoded data removed]",
      "text/plain": [
       "<Figure size 792x504 with 1 Axes>"
      ]
     },
     "metadata": {
      "needs_background": "light"
     },
     "output_type": "display_data"
    }
   ],
   "source": [
    "plt.hist(metadata_path['Channels'], rwidth=0.9, color='#86bf91')\n",
    "plt.rcParams['figure.figsize'] = (11,7)\n",
    "plt.xlabel('Duração')\n",
    "plt.ylabel('População')\n",
    "plt.title('Histograma dos canais dos aúdios dos áudios (s)')\n",
    "plt.grid(False)\n",
    "plt.show()"
   ]
  },
  {
   "cell_type": "markdown",
   "metadata": {},
   "source": [
    "## Gráfico das Classes dos aúdios"
   ]
  },
  {
   "cell_type": "code",
   "execution_count": 53,
   "metadata": {},
   "outputs": [
    {
     "data": {
      "image/png": "[encoded data removed]",
      "text/plain": [
       "<Figure size 792x504 with 1 Axes>"
      ]
     },
     "metadata": {
      "needs_background": "light"
     },
     "output_type": "display_data"
    }
   ],
   "source": [
    "plt.hist(metadata_path['Class'], rwidth=0.9, color='#86bf91')\n",
    "plt.rcParams['figure.figsize'] = (11,7)\n",
    "plt.xlabel('Duração')\n",
    "plt.xticks(rotation=90)\n",
    "plt.ylabel('População')\n",
    "plt.title('Histograma dos Classes dos aúdios dos áudios (s)')\n",
    "plt.grid(False)\n",
    "plt.show()"
   ]
  },
  {
   "cell_type": "markdown",
   "metadata": {},
   "source": [
    "# Quantidade de aúdios por classe"
   ]
  },
  {
   "cell_type": "code",
   "execution_count": 25,
   "metadata": {},
   "outputs": [
    {
     "data": {
      "text/plain": [
       "ChaChaCha        111\n",
       "Waltz            110\n",
       "Rumba             98\n",
       "Samba             86\n",
       "Tango             86\n",
       "Quickstep         82\n",
       "VienneseWaltz     65\n",
       "Jive              60\n",
       "Name: Class, dtype: int64"
      ]
     },
     "execution_count": 25,
     "metadata": {},
     "output_type": "execute_result"
    }
   ],
   "source": [
    "metadata_path['Class'].value_counts()"
   ]
  }
 ],
 "metadata": {
  "colab": {
   "collapsed_sections": [],
   "name": "classes_de_TEIA.ipynb",
   "provenance": []
  },
  "kernelspec": {
   "display_name": "Python 3",
   "language": "python",
   "name": "python3"
  },
  "language_info": {
   "codemirror_mode": {
    "name": "ipython",
    "version": 3
   },
   "file_extension": ".py",
   "mimetype": "text/x-python",
   "name": "python",
   "nbconvert_exporter": "python",
   "pygments_lexer": "ipython3",
   "version": "3.7.3"
  }
 },
 "nbformat": 4,
 "nbformat_minor": 1
}
