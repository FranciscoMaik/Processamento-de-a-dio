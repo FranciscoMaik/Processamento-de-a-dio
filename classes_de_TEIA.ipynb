{
 "cells": [
  {
   "cell_type": "markdown",
   "metadata": {
    "colab_type": "text",
    "id": "1GQQel_Nicq5"
   },
   "source": [
    "# Importação das Bibliotecas"
   ]
  },
  {
   "cell_type": "code",
   "execution_count": 9,
   "metadata": {
    "colab": {
     "base_uri": "https://localhost:8080/",
     "height": 34
    },
    "colab_type": "code",
    "id": "k6iBeiMIhxOg",
    "outputId": "452cd361-6857-4985-aefd-aded13c6bc0b"
   },
   "outputs": [],
   "source": [
    "import numpy as np\n",
    "import pandas as pd\n",
    "from scipy.io import wavfile as wav\n",
    "import struct\n",
    "import matplotlib.pyplot as plt\n",
    "import glob\n",
    "import os"
   ]
  },
  {
   "cell_type": "markdown",
   "metadata": {
    "colab_type": "text",
    "id": "kz8i_xF763zI"
   },
   "source": [
    "# Variavel global"
   ]
  },
  {
   "cell_type": "code",
   "execution_count": 34,
   "metadata": {
    "colab": {},
    "colab_type": "code",
    "id": "tZsBiTaP4rPW"
   },
   "outputs": [],
   "source": [
    "nome_da_pasta = \"\"\n",
    "arquivo = glob.glob('Trabalho_de_processamento/Ballroom/Waltz/*.wav')\n",
    "linha = len(arquivo)\n",
    "contador = 0"
   ]
  },
  {
   "cell_type": "markdown",
   "metadata": {
    "colab_type": "text",
    "id": "AC7PS_bJ1vem"
   },
   "source": [
    "# Cria a Matriz de armazenamento de dados"
   ]
  },
  {
   "cell_type": "code",
   "execution_count": 35,
   "metadata": {
    "colab": {},
    "colab_type": "code",
    "id": "XnxZt_lm1z0g"
   },
   "outputs": [],
   "source": [
    "matriz = []\n",
    "for i in range(linha):\n",
    "    matriz.append([])\n",
    "    for j in range(5):\n",
    "        matriz[i].append([])"
   ]
  },
  {
   "cell_type": "markdown",
   "metadata": {
    "colab_type": "text",
    "id": "DYKErfxgiwDz"
   },
   "source": [
    "# Função de Extrassão de Caracteristicas\n"
   ]
  },
  {
   "cell_type": "code",
   "execution_count": 36,
   "metadata": {
    "colab": {},
    "colab_type": "code",
    "id": "CzwDwY2PiEb2"
   },
   "outputs": [],
   "source": [
    "def extrassao_de_dados_da_classe(caminho,linhas):\n",
    "    rate, wav_sample = wav.read(caminho)\n",
    "    wave_file = open(caminho,\"rb\")\n",
    "    riff_fmt = wave_file.read(36)\n",
    "    bit_depth_string = riff_fmt[-2:]\n",
    "    bit_depth = struct.unpack(\"H\",bit_depth_string)[0]\n",
    "   \n",
    "    armazena_dados_na_matriz(rate,wav_sample.shape[0],bit_depth,wav_sample.shape[0]/rate)\n",
    "    \n",
    "    return contador + 1\n",
    "    "
   ]
  },
  {
   "cell_type": "markdown",
   "metadata": {
    "colab_type": "text",
    "id": "Dm_Al5pC6zdm"
   },
   "source": [
    "# Salva os dados na matriz"
   ]
  },
  {
   "cell_type": "code",
   "execution_count": 37,
   "metadata": {
    "colab": {},
    "colab_type": "code",
    "id": "ohBwdEHO4eq4"
   },
   "outputs": [],
   "source": [
    "def armazena_dados_na_matriz(taxa,canais,bits,duracao):\n",
    "    matriz[contador][0] = duracao\n",
    "    matriz[contador][1] = taxa\n",
    "    matriz[contador][2] = bits\n",
    "    matriz[contador][3] = canais\n",
    "    matriz[contador][4] = \"Waltz\""
   ]
  },
  {
   "cell_type": "markdown",
   "metadata": {
    "colab_type": "text",
    "id": "ONuWtMsNi-8B"
   },
   "source": [
    "# Abre todos os aquivos .wav da pasta (Nome da pasta)\n",
    "\n",
    "---\n",
    "\n"
   ]
  },
  {
   "cell_type": "code",
   "execution_count": 38,
   "metadata": {
    "colab": {},
    "colab_type": "code",
    "id": "jquZcRc_iWQL"
   },
   "outputs": [
    {
     "name": "stderr",
     "output_type": "stream",
     "text": [
      "/home/arlaxad/Documentos/TEIA/processamento/processo_env/lib/python3.7/site-packages/ipykernel_launcher.py:2: WavFileWarning: Chunk (non-data) not understood, skipping it.\n",
      "  \n"
     ]
    }
   ],
   "source": [
    "for i in arquivo:\n",
    "    contador = extrassao_de_dados_da_classe(i,linha)\n",
    "    "
   ]
  },
  {
   "cell_type": "markdown",
   "metadata": {},
   "source": [
    "# Salvando arquivo .csv"
   ]
  },
  {
   "cell_type": "code",
   "execution_count": 39,
   "metadata": {
    "colab": {},
    "colab_type": "code",
    "id": "ylKaj8Ns91bC"
   },
   "outputs": [],
   "source": [
    "pd.DataFrame(matriz).to_csv(\"Trabalho_de_processamento/Ballroom/Waltz/Waltz.csv\",header=None)"
   ]
  }
 ],
 "metadata": {
  "colab": {
   "collapsed_sections": [],
   "name": "classes_de_TEIA.ipynb",
   "provenance": []
  },
  "kernelspec": {
   "display_name": "Python 3",
   "language": "python",
   "name": "python3"
  },
  "language_info": {
   "codemirror_mode": {
    "name": "ipython",
    "version": 3
   },
   "file_extension": ".py",
   "mimetype": "text/x-python",
   "name": "python",
   "nbconvert_exporter": "python",
   "pygments_lexer": "ipython3",
   "version": "3.7.3"
  }
 },
 "nbformat": 4,
 "nbformat_minor": 1
}
