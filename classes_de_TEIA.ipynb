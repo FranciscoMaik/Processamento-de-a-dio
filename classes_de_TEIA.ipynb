{
 "cells": [
  {
   "cell_type": "markdown",
   "metadata": {
    "colab_type": "text",
    "id": "1GQQel_Nicq5"
   },
   "source": [
    "# Importação das Bibliotecas"
   ]
  },
  {
   "cell_type": "code",
   "execution_count": 1,
   "metadata": {
    "colab": {
     "base_uri": "https://localhost:8080/",
     "height": 34
    },
    "colab_type": "code",
    "id": "k6iBeiMIhxOg",
    "outputId": "452cd361-6857-4985-aefd-aded13c6bc0b"
   },
   "outputs": [],
   "source": [
    "import numpy as np\n",
    "import pandas as pd\n",
    "import wave\n",
    "import struct\n",
    "import matplotlib.pyplot as plt\n",
    "import glob\n",
    "import os\n",
    "\n",
    "path = os.getcwd()\n",
    "# name_bases = os.listdir(path+'/extendedballroom_v1.1/')\n"
   ]
  },
  {
   "cell_type": "markdown",
   "metadata": {
    "colab_type": "text",
    "id": "kz8i_xF763zI"
   },
   "source": [
    "# Variaveis global"
   ]
  },
  {
   "cell_type": "code",
   "execution_count": 2,
   "metadata": {
    "colab": {},
    "colab_type": "code",
    "id": "tZsBiTaP4rPW"
   },
   "outputs": [],
   "source": [
    "\n",
    "arquivo= glob.glob(path+'/extendedballroom_v1.1/*/*.wav')\n",
    "linha = len(arquivo)\n",
    "contador = 0\n"
   ]
  },
  {
   "cell_type": "markdown",
   "metadata": {
    "colab_type": "text",
    "id": "AC7PS_bJ1vem"
   },
   "source": [
    "# Criando a Matriz de armazenamento de dados"
   ]
  },
  {
   "cell_type": "code",
   "execution_count": 3,
   "metadata": {
    "colab": {},
    "colab_type": "code",
    "id": "XnxZt_lm1z0g"
   },
   "outputs": [],
   "source": [
    "matriz = []\n",
    "for i in range(linha):\n",
    "    matriz.append([])\n",
    "    for j in range(5):\n",
    "        matriz[i].append([])"
   ]
  },
  {
   "cell_type": "markdown",
   "metadata": {
    "colab_type": "text",
    "id": "DYKErfxgiwDz"
   },
   "source": [
    "# Função de Extração de Caracteristicas\n"
   ]
  },
  {
   "cell_type": "code",
   "execution_count": 4,
   "metadata": {
    "colab": {},
    "colab_type": "code",
    "id": "CzwDwY2PiEb2"
   },
   "outputs": [],
   "source": [
    "def extrassao_de_dados_da_classe(caminho,linhas):\n",
    "    opened_audio = wave.open(caminho, \"rb\").getparams()\n",
    "    \n",
    "    \n",
    "    #pegar nome da pasta\n",
    "    final = caminho.rfind(\"/\")\n",
    "    inicio = caminho.rfind(\"/\",1,final-1)\n",
    "    nome_base=caminho[inicio+1:final]\n",
    "    \n",
    "       \n",
    "    armazena_dados_na_matriz(opened_audio[2], opened_audio[0], (opened_audio[1]**4), opened_audio[3]/opened_audio[2], nome_base)\n",
    "    \n",
    "    return contador + 1\n",
    "    "
   ]
  },
  {
   "cell_type": "markdown",
   "metadata": {
    "colab_type": "text",
    "id": "Dm_Al5pC6zdm"
   },
   "source": [
    "# Salva os dados na matriz"
   ]
  },
  {
   "cell_type": "code",
   "execution_count": 5,
   "metadata": {
    "colab": {},
    "colab_type": "code",
    "id": "ohBwdEHO4eq4"
   },
   "outputs": [],
   "source": [
    "def armazena_dados_na_matriz(taxa,canais,bits,duracao, nome_base):\n",
    "    matriz[contador][0] = taxa\n",
    "    matriz[contador][1] = canais\n",
    "    matriz[contador][2] = bits\n",
    "    matriz[contador][3] = duracao\n",
    "    matriz[contador][4] = nome_base\n"
   ]
  },
  {
   "cell_type": "markdown",
   "metadata": {
    "colab_type": "text",
    "id": "ONuWtMsNi-8B"
   },
   "source": [
    "# Abre todos os aquivos .wav da pasta (Nome da pasta)\n"
   ]
  },
  {
   "cell_type": "code",
   "execution_count": 6,
   "metadata": {
    "colab": {},
    "colab_type": "code",
    "id": "jquZcRc_iWQL"
   },
   "outputs": [],
   "source": [
    "for i in arquivo:\n",
    "    contador = extrassao_de_dados_da_classe(i,linha)\n",
    "    "
   ]
  },
  {
   "cell_type": "markdown",
   "metadata": {},
   "source": [
    "# Salvando arquivo .csv"
   ]
  },
  {
   "cell_type": "code",
   "execution_count": 7,
   "metadata": {
    "colab": {},
    "colab_type": "code",
    "id": "ylKaj8Ns91bC"
   },
   "outputs": [],
   "source": [
    "cabecario = ['Sampling_Rate','Channels','Bits','Duration','Class']\n",
    "pd.DataFrame(matriz).to_csv(path+f\"/csv/Base_Ballroom.csv\", header = cabecario)"
   ]
  },
  {
   "cell_type": "code",
   "execution_count": 8,
   "metadata": {},
   "outputs": [
    {
     "data": {
      "text/html": [
       "<div>\n",
       "<style scoped>\n",
       "    .dataframe tbody tr th:only-of-type {\n",
       "        vertical-align: middle;\n",
       "    }\n",
       "\n",
       "    .dataframe tbody tr th {\n",
       "        vertical-align: top;\n",
       "    }\n",
       "\n",
       "    .dataframe thead th {\n",
       "        text-align: right;\n",
       "    }\n",
       "</style>\n",
       "<table border=\"1\" class=\"dataframe\">\n",
       "  <thead>\n",
       "    <tr style=\"text-align: right;\">\n",
       "      <th></th>\n",
       "      <th>Sampling_Rate</th>\n",
       "      <th>Channels</th>\n",
       "      <th>Bits</th>\n",
       "      <th>Duration</th>\n",
       "      <th>Class</th>\n",
       "    </tr>\n",
       "  </thead>\n",
       "  <tbody>\n",
       "    <tr>\n",
       "      <th>0</th>\n",
       "      <td>44100</td>\n",
       "      <td>2</td>\n",
       "      <td>16</td>\n",
       "      <td>30.040816</td>\n",
       "      <td>Foxtrot</td>\n",
       "    </tr>\n",
       "    <tr>\n",
       "      <th>1</th>\n",
       "      <td>48000</td>\n",
       "      <td>2</td>\n",
       "      <td>16</td>\n",
       "      <td>30.000000</td>\n",
       "      <td>Foxtrot</td>\n",
       "    </tr>\n",
       "    <tr>\n",
       "      <th>2</th>\n",
       "      <td>44100</td>\n",
       "      <td>2</td>\n",
       "      <td>16</td>\n",
       "      <td>30.040816</td>\n",
       "      <td>Foxtrot</td>\n",
       "    </tr>\n",
       "    <tr>\n",
       "      <th>3</th>\n",
       "      <td>48000</td>\n",
       "      <td>2</td>\n",
       "      <td>16</td>\n",
       "      <td>30.000000</td>\n",
       "      <td>Foxtrot</td>\n",
       "    </tr>\n",
       "    <tr>\n",
       "      <th>4</th>\n",
       "      <td>48000</td>\n",
       "      <td>2</td>\n",
       "      <td>16</td>\n",
       "      <td>30.000000</td>\n",
       "      <td>Foxtrot</td>\n",
       "    </tr>\n",
       "    <tr>\n",
       "      <th>5</th>\n",
       "      <td>48000</td>\n",
       "      <td>2</td>\n",
       "      <td>16</td>\n",
       "      <td>30.000000</td>\n",
       "      <td>Foxtrot</td>\n",
       "    </tr>\n",
       "    <tr>\n",
       "      <th>6</th>\n",
       "      <td>48000</td>\n",
       "      <td>2</td>\n",
       "      <td>16</td>\n",
       "      <td>30.000000</td>\n",
       "      <td>Foxtrot</td>\n",
       "    </tr>\n",
       "    <tr>\n",
       "      <th>7</th>\n",
       "      <td>44100</td>\n",
       "      <td>2</td>\n",
       "      <td>16</td>\n",
       "      <td>29.988571</td>\n",
       "      <td>Foxtrot</td>\n",
       "    </tr>\n",
       "    <tr>\n",
       "      <th>8</th>\n",
       "      <td>44100</td>\n",
       "      <td>2</td>\n",
       "      <td>16</td>\n",
       "      <td>30.040816</td>\n",
       "      <td>Foxtrot</td>\n",
       "    </tr>\n",
       "    <tr>\n",
       "      <th>9</th>\n",
       "      <td>48000</td>\n",
       "      <td>2</td>\n",
       "      <td>16</td>\n",
       "      <td>30.000000</td>\n",
       "      <td>Foxtrot</td>\n",
       "    </tr>\n",
       "    <tr>\n",
       "      <th>10</th>\n",
       "      <td>44100</td>\n",
       "      <td>2</td>\n",
       "      <td>16</td>\n",
       "      <td>29.988571</td>\n",
       "      <td>Foxtrot</td>\n",
       "    </tr>\n",
       "    <tr>\n",
       "      <th>11</th>\n",
       "      <td>44100</td>\n",
       "      <td>2</td>\n",
       "      <td>16</td>\n",
       "      <td>30.040816</td>\n",
       "      <td>Foxtrot</td>\n",
       "    </tr>\n",
       "    <tr>\n",
       "      <th>12</th>\n",
       "      <td>44100</td>\n",
       "      <td>2</td>\n",
       "      <td>16</td>\n",
       "      <td>30.040816</td>\n",
       "      <td>Foxtrot</td>\n",
       "    </tr>\n",
       "    <tr>\n",
       "      <th>13</th>\n",
       "      <td>44100</td>\n",
       "      <td>2</td>\n",
       "      <td>16</td>\n",
       "      <td>30.040816</td>\n",
       "      <td>Foxtrot</td>\n",
       "    </tr>\n",
       "    <tr>\n",
       "      <th>14</th>\n",
       "      <td>44100</td>\n",
       "      <td>2</td>\n",
       "      <td>16</td>\n",
       "      <td>29.988571</td>\n",
       "      <td>Foxtrot</td>\n",
       "    </tr>\n",
       "    <tr>\n",
       "      <th>15</th>\n",
       "      <td>44100</td>\n",
       "      <td>2</td>\n",
       "      <td>16</td>\n",
       "      <td>30.040816</td>\n",
       "      <td>Foxtrot</td>\n",
       "    </tr>\n",
       "    <tr>\n",
       "      <th>16</th>\n",
       "      <td>44100</td>\n",
       "      <td>2</td>\n",
       "      <td>16</td>\n",
       "      <td>30.040816</td>\n",
       "      <td>Foxtrot</td>\n",
       "    </tr>\n",
       "    <tr>\n",
       "      <th>17</th>\n",
       "      <td>44100</td>\n",
       "      <td>2</td>\n",
       "      <td>16</td>\n",
       "      <td>30.040816</td>\n",
       "      <td>Foxtrot</td>\n",
       "    </tr>\n",
       "    <tr>\n",
       "      <th>18</th>\n",
       "      <td>44100</td>\n",
       "      <td>2</td>\n",
       "      <td>16</td>\n",
       "      <td>30.040816</td>\n",
       "      <td>Foxtrot</td>\n",
       "    </tr>\n",
       "    <tr>\n",
       "      <th>19</th>\n",
       "      <td>44100</td>\n",
       "      <td>2</td>\n",
       "      <td>16</td>\n",
       "      <td>30.040816</td>\n",
       "      <td>Foxtrot</td>\n",
       "    </tr>\n",
       "    <tr>\n",
       "      <th>20</th>\n",
       "      <td>44100</td>\n",
       "      <td>2</td>\n",
       "      <td>16</td>\n",
       "      <td>30.040816</td>\n",
       "      <td>Foxtrot</td>\n",
       "    </tr>\n",
       "    <tr>\n",
       "      <th>21</th>\n",
       "      <td>48000</td>\n",
       "      <td>2</td>\n",
       "      <td>16</td>\n",
       "      <td>30.000000</td>\n",
       "      <td>Foxtrot</td>\n",
       "    </tr>\n",
       "    <tr>\n",
       "      <th>22</th>\n",
       "      <td>48000</td>\n",
       "      <td>2</td>\n",
       "      <td>16</td>\n",
       "      <td>30.072000</td>\n",
       "      <td>Foxtrot</td>\n",
       "    </tr>\n",
       "    <tr>\n",
       "      <th>23</th>\n",
       "      <td>48000</td>\n",
       "      <td>2</td>\n",
       "      <td>16</td>\n",
       "      <td>30.000000</td>\n",
       "      <td>Foxtrot</td>\n",
       "    </tr>\n",
       "    <tr>\n",
       "      <th>24</th>\n",
       "      <td>44100</td>\n",
       "      <td>2</td>\n",
       "      <td>16</td>\n",
       "      <td>30.040816</td>\n",
       "      <td>Foxtrot</td>\n",
       "    </tr>\n",
       "    <tr>\n",
       "      <th>25</th>\n",
       "      <td>44100</td>\n",
       "      <td>2</td>\n",
       "      <td>16</td>\n",
       "      <td>30.040816</td>\n",
       "      <td>Foxtrot</td>\n",
       "    </tr>\n",
       "    <tr>\n",
       "      <th>26</th>\n",
       "      <td>44100</td>\n",
       "      <td>2</td>\n",
       "      <td>16</td>\n",
       "      <td>30.040816</td>\n",
       "      <td>Foxtrot</td>\n",
       "    </tr>\n",
       "    <tr>\n",
       "      <th>27</th>\n",
       "      <td>44100</td>\n",
       "      <td>2</td>\n",
       "      <td>16</td>\n",
       "      <td>30.040816</td>\n",
       "      <td>Foxtrot</td>\n",
       "    </tr>\n",
       "    <tr>\n",
       "      <th>28</th>\n",
       "      <td>48000</td>\n",
       "      <td>2</td>\n",
       "      <td>16</td>\n",
       "      <td>30.000000</td>\n",
       "      <td>Foxtrot</td>\n",
       "    </tr>\n",
       "    <tr>\n",
       "      <th>29</th>\n",
       "      <td>48000</td>\n",
       "      <td>2</td>\n",
       "      <td>16</td>\n",
       "      <td>30.000000</td>\n",
       "      <td>Foxtrot</td>\n",
       "    </tr>\n",
       "    <tr>\n",
       "      <th>...</th>\n",
       "      <td>...</td>\n",
       "      <td>...</td>\n",
       "      <td>...</td>\n",
       "      <td>...</td>\n",
       "      <td>...</td>\n",
       "    </tr>\n",
       "    <tr>\n",
       "      <th>4150</th>\n",
       "      <td>44100</td>\n",
       "      <td>2</td>\n",
       "      <td>16</td>\n",
       "      <td>30.040816</td>\n",
       "      <td>Pasodoble</td>\n",
       "    </tr>\n",
       "    <tr>\n",
       "      <th>4151</th>\n",
       "      <td>48000</td>\n",
       "      <td>2</td>\n",
       "      <td>16</td>\n",
       "      <td>30.072000</td>\n",
       "      <td>Pasodoble</td>\n",
       "    </tr>\n",
       "    <tr>\n",
       "      <th>4152</th>\n",
       "      <td>48000</td>\n",
       "      <td>2</td>\n",
       "      <td>16</td>\n",
       "      <td>30.072000</td>\n",
       "      <td>Pasodoble</td>\n",
       "    </tr>\n",
       "    <tr>\n",
       "      <th>4153</th>\n",
       "      <td>44100</td>\n",
       "      <td>2</td>\n",
       "      <td>16</td>\n",
       "      <td>30.040816</td>\n",
       "      <td>Pasodoble</td>\n",
       "    </tr>\n",
       "    <tr>\n",
       "      <th>4154</th>\n",
       "      <td>48000</td>\n",
       "      <td>2</td>\n",
       "      <td>16</td>\n",
       "      <td>30.000000</td>\n",
       "      <td>Pasodoble</td>\n",
       "    </tr>\n",
       "    <tr>\n",
       "      <th>4155</th>\n",
       "      <td>44100</td>\n",
       "      <td>2</td>\n",
       "      <td>16</td>\n",
       "      <td>30.040816</td>\n",
       "      <td>Pasodoble</td>\n",
       "    </tr>\n",
       "    <tr>\n",
       "      <th>4156</th>\n",
       "      <td>48000</td>\n",
       "      <td>2</td>\n",
       "      <td>16</td>\n",
       "      <td>30.000000</td>\n",
       "      <td>Pasodoble</td>\n",
       "    </tr>\n",
       "    <tr>\n",
       "      <th>4157</th>\n",
       "      <td>44100</td>\n",
       "      <td>2</td>\n",
       "      <td>16</td>\n",
       "      <td>30.040816</td>\n",
       "      <td>Pasodoble</td>\n",
       "    </tr>\n",
       "    <tr>\n",
       "      <th>4158</th>\n",
       "      <td>44100</td>\n",
       "      <td>2</td>\n",
       "      <td>16</td>\n",
       "      <td>29.988571</td>\n",
       "      <td>Pasodoble</td>\n",
       "    </tr>\n",
       "    <tr>\n",
       "      <th>4159</th>\n",
       "      <td>44100</td>\n",
       "      <td>2</td>\n",
       "      <td>16</td>\n",
       "      <td>29.988571</td>\n",
       "      <td>Pasodoble</td>\n",
       "    </tr>\n",
       "    <tr>\n",
       "      <th>4160</th>\n",
       "      <td>44100</td>\n",
       "      <td>2</td>\n",
       "      <td>16</td>\n",
       "      <td>30.040816</td>\n",
       "      <td>Pasodoble</td>\n",
       "    </tr>\n",
       "    <tr>\n",
       "      <th>4161</th>\n",
       "      <td>44100</td>\n",
       "      <td>2</td>\n",
       "      <td>16</td>\n",
       "      <td>30.040816</td>\n",
       "      <td>Pasodoble</td>\n",
       "    </tr>\n",
       "    <tr>\n",
       "      <th>4162</th>\n",
       "      <td>48000</td>\n",
       "      <td>2</td>\n",
       "      <td>16</td>\n",
       "      <td>30.000000</td>\n",
       "      <td>Pasodoble</td>\n",
       "    </tr>\n",
       "    <tr>\n",
       "      <th>4163</th>\n",
       "      <td>44100</td>\n",
       "      <td>2</td>\n",
       "      <td>16</td>\n",
       "      <td>29.988571</td>\n",
       "      <td>Pasodoble</td>\n",
       "    </tr>\n",
       "    <tr>\n",
       "      <th>4164</th>\n",
       "      <td>44100</td>\n",
       "      <td>2</td>\n",
       "      <td>16</td>\n",
       "      <td>29.988571</td>\n",
       "      <td>Pasodoble</td>\n",
       "    </tr>\n",
       "    <tr>\n",
       "      <th>4165</th>\n",
       "      <td>44100</td>\n",
       "      <td>2</td>\n",
       "      <td>16</td>\n",
       "      <td>30.040816</td>\n",
       "      <td>Pasodoble</td>\n",
       "    </tr>\n",
       "    <tr>\n",
       "      <th>4166</th>\n",
       "      <td>48000</td>\n",
       "      <td>2</td>\n",
       "      <td>16</td>\n",
       "      <td>30.000000</td>\n",
       "      <td>Pasodoble</td>\n",
       "    </tr>\n",
       "    <tr>\n",
       "      <th>4167</th>\n",
       "      <td>44100</td>\n",
       "      <td>2</td>\n",
       "      <td>16</td>\n",
       "      <td>30.040816</td>\n",
       "      <td>Pasodoble</td>\n",
       "    </tr>\n",
       "    <tr>\n",
       "      <th>4168</th>\n",
       "      <td>48000</td>\n",
       "      <td>2</td>\n",
       "      <td>16</td>\n",
       "      <td>30.000000</td>\n",
       "      <td>Pasodoble</td>\n",
       "    </tr>\n",
       "    <tr>\n",
       "      <th>4169</th>\n",
       "      <td>48000</td>\n",
       "      <td>2</td>\n",
       "      <td>16</td>\n",
       "      <td>30.000000</td>\n",
       "      <td>Pasodoble</td>\n",
       "    </tr>\n",
       "    <tr>\n",
       "      <th>4170</th>\n",
       "      <td>44100</td>\n",
       "      <td>2</td>\n",
       "      <td>16</td>\n",
       "      <td>30.040816</td>\n",
       "      <td>Pasodoble</td>\n",
       "    </tr>\n",
       "    <tr>\n",
       "      <th>4171</th>\n",
       "      <td>48000</td>\n",
       "      <td>2</td>\n",
       "      <td>16</td>\n",
       "      <td>30.000000</td>\n",
       "      <td>Pasodoble</td>\n",
       "    </tr>\n",
       "    <tr>\n",
       "      <th>4172</th>\n",
       "      <td>44100</td>\n",
       "      <td>2</td>\n",
       "      <td>16</td>\n",
       "      <td>29.988571</td>\n",
       "      <td>Pasodoble</td>\n",
       "    </tr>\n",
       "    <tr>\n",
       "      <th>4173</th>\n",
       "      <td>44100</td>\n",
       "      <td>2</td>\n",
       "      <td>16</td>\n",
       "      <td>30.040816</td>\n",
       "      <td>Pasodoble</td>\n",
       "    </tr>\n",
       "    <tr>\n",
       "      <th>4174</th>\n",
       "      <td>44100</td>\n",
       "      <td>2</td>\n",
       "      <td>16</td>\n",
       "      <td>30.040816</td>\n",
       "      <td>Pasodoble</td>\n",
       "    </tr>\n",
       "    <tr>\n",
       "      <th>4175</th>\n",
       "      <td>48000</td>\n",
       "      <td>2</td>\n",
       "      <td>16</td>\n",
       "      <td>30.072000</td>\n",
       "      <td>Pasodoble</td>\n",
       "    </tr>\n",
       "    <tr>\n",
       "      <th>4176</th>\n",
       "      <td>44100</td>\n",
       "      <td>2</td>\n",
       "      <td>16</td>\n",
       "      <td>30.040816</td>\n",
       "      <td>Pasodoble</td>\n",
       "    </tr>\n",
       "    <tr>\n",
       "      <th>4177</th>\n",
       "      <td>48000</td>\n",
       "      <td>2</td>\n",
       "      <td>16</td>\n",
       "      <td>30.072000</td>\n",
       "      <td>Pasodoble</td>\n",
       "    </tr>\n",
       "    <tr>\n",
       "      <th>4178</th>\n",
       "      <td>44100</td>\n",
       "      <td>2</td>\n",
       "      <td>16</td>\n",
       "      <td>29.988571</td>\n",
       "      <td>Pasodoble</td>\n",
       "    </tr>\n",
       "    <tr>\n",
       "      <th>4179</th>\n",
       "      <td>48000</td>\n",
       "      <td>2</td>\n",
       "      <td>16</td>\n",
       "      <td>30.000000</td>\n",
       "      <td>Pasodoble</td>\n",
       "    </tr>\n",
       "  </tbody>\n",
       "</table>\n",
       "<p>4180 rows × 5 columns</p>\n",
       "</div>"
      ],
      "text/plain": [
       "      Sampling_Rate  Channels  Bits   Duration      Class\n",
       "0             44100         2    16  30.040816    Foxtrot\n",
       "1             48000         2    16  30.000000    Foxtrot\n",
       "2             44100         2    16  30.040816    Foxtrot\n",
       "3             48000         2    16  30.000000    Foxtrot\n",
       "4             48000         2    16  30.000000    Foxtrot\n",
       "5             48000         2    16  30.000000    Foxtrot\n",
       "6             48000         2    16  30.000000    Foxtrot\n",
       "7             44100         2    16  29.988571    Foxtrot\n",
       "8             44100         2    16  30.040816    Foxtrot\n",
       "9             48000         2    16  30.000000    Foxtrot\n",
       "10            44100         2    16  29.988571    Foxtrot\n",
       "11            44100         2    16  30.040816    Foxtrot\n",
       "12            44100         2    16  30.040816    Foxtrot\n",
       "13            44100         2    16  30.040816    Foxtrot\n",
       "14            44100         2    16  29.988571    Foxtrot\n",
       "15            44100         2    16  30.040816    Foxtrot\n",
       "16            44100         2    16  30.040816    Foxtrot\n",
       "17            44100         2    16  30.040816    Foxtrot\n",
       "18            44100         2    16  30.040816    Foxtrot\n",
       "19            44100         2    16  30.040816    Foxtrot\n",
       "20            44100         2    16  30.040816    Foxtrot\n",
       "21            48000         2    16  30.000000    Foxtrot\n",
       "22            48000         2    16  30.072000    Foxtrot\n",
       "23            48000         2    16  30.000000    Foxtrot\n",
       "24            44100         2    16  30.040816    Foxtrot\n",
       "25            44100         2    16  30.040816    Foxtrot\n",
       "26            44100         2    16  30.040816    Foxtrot\n",
       "27            44100         2    16  30.040816    Foxtrot\n",
       "28            48000         2    16  30.000000    Foxtrot\n",
       "29            48000         2    16  30.000000    Foxtrot\n",
       "...             ...       ...   ...        ...        ...\n",
       "4150          44100         2    16  30.040816  Pasodoble\n",
       "4151          48000         2    16  30.072000  Pasodoble\n",
       "4152          48000         2    16  30.072000  Pasodoble\n",
       "4153          44100         2    16  30.040816  Pasodoble\n",
       "4154          48000         2    16  30.000000  Pasodoble\n",
       "4155          44100         2    16  30.040816  Pasodoble\n",
       "4156          48000         2    16  30.000000  Pasodoble\n",
       "4157          44100         2    16  30.040816  Pasodoble\n",
       "4158          44100         2    16  29.988571  Pasodoble\n",
       "4159          44100         2    16  29.988571  Pasodoble\n",
       "4160          44100         2    16  30.040816  Pasodoble\n",
       "4161          44100         2    16  30.040816  Pasodoble\n",
       "4162          48000         2    16  30.000000  Pasodoble\n",
       "4163          44100         2    16  29.988571  Pasodoble\n",
       "4164          44100         2    16  29.988571  Pasodoble\n",
       "4165          44100         2    16  30.040816  Pasodoble\n",
       "4166          48000         2    16  30.000000  Pasodoble\n",
       "4167          44100         2    16  30.040816  Pasodoble\n",
       "4168          48000         2    16  30.000000  Pasodoble\n",
       "4169          48000         2    16  30.000000  Pasodoble\n",
       "4170          44100         2    16  30.040816  Pasodoble\n",
       "4171          48000         2    16  30.000000  Pasodoble\n",
       "4172          44100         2    16  29.988571  Pasodoble\n",
       "4173          44100         2    16  30.040816  Pasodoble\n",
       "4174          44100         2    16  30.040816  Pasodoble\n",
       "4175          48000         2    16  30.072000  Pasodoble\n",
       "4176          44100         2    16  30.040816  Pasodoble\n",
       "4177          48000         2    16  30.072000  Pasodoble\n",
       "4178          44100         2    16  29.988571  Pasodoble\n",
       "4179          48000         2    16  30.000000  Pasodoble\n",
       "\n",
       "[4180 rows x 5 columns]"
      ]
     },
     "execution_count": 8,
     "metadata": {},
     "output_type": "execute_result"
    }
   ],
   "source": [
    "#mostrar arquivo\n",
    "metadata_path = pd.read_csv(path+f\"/csv/Base_Ballroom.csv\",index_col = 0)\n",
    "metadata_path\n",
    "  "
   ]
  },
  {
   "cell_type": "markdown",
   "metadata": {},
   "source": [
    "# Plotagem de gráficos"
   ]
  },
  {
   "cell_type": "markdown",
   "metadata": {},
   "source": [
    "## Gráfico do Tamanho dos aúdios"
   ]
  },
  {
   "cell_type": "code",
   "execution_count": 9,
   "metadata": {},
   "outputs": [
    {
     "data": {
      "image/png": "[encoded data removed]",
      "text/plain": [
       "<Figure size 432x288 with 1 Axes>"
      ]
     },
     "metadata": {
      "needs_background": "light"
     },
     "output_type": "display_data"
    }
   ],
   "source": [
    "plt.hist(metadata_path['Duration'], rwidth=0.9, color='#54CC14')\n",
    "plt.rcParams['figure.figsize'] = (11,7)\n",
    "plt.xlabel('Duração')\n",
    "plt.ylabel('População')\n",
    "plt.title('Histograma da duração dos aúdios dos áudios (s)')\n",
    "plt.grid(False)\n",
    "plt.show()\n",
    "\n"
   ]
  },
  {
   "cell_type": "markdown",
   "metadata": {},
   "source": [
    "## Gráfico da Frequência dos aúdios"
   ]
  },
  {
   "cell_type": "code",
   "execution_count": 10,
   "metadata": {},
   "outputs": [
    {
     "data": {
      "image/png": "[encoded data removed]",
      "text/plain": [
       "<Figure size 792x504 with 1 Axes>"
      ]
     },
     "metadata": {
      "needs_background": "light"
     },
     "output_type": "display_data"
    }
   ],
   "source": [
    "plt.hist(metadata_path['Sampling_Rate'], rwidth=0.9, color='#CC4A14')\n",
    "plt.rcParams['figure.figsize'] = (11,7)\n",
    "plt.xlabel('Taxa de Amostragem')\n",
    "plt.ylabel('População')\n",
    "plt.title('Histograma da frequência dos aúdios dos áudios (s)')\n",
    "plt.grid(False)\n",
    "plt.show()"
   ]
  },
  {
   "cell_type": "markdown",
   "metadata": {},
   "source": [
    "## Gráfico dos Bits dos aúdios"
   ]
  },
  {
   "cell_type": "code",
   "execution_count": 11,
   "metadata": {},
   "outputs": [
    {
     "data": {
      "image/png": "[encoded data removed]",
      "text/plain": [
       "<Figure size 792x504 with 1 Axes>"
      ]
     },
     "metadata": {
      "needs_background": "light"
     },
     "output_type": "display_data"
    }
   ],
   "source": [
    "plt.hist(metadata_path['Bits'], rwidth=0.9, color='#99583D')\n",
    "plt.rcParams['figure.figsize'] = (11,7)\n",
    "plt.xlabel('Bits')\n",
    "plt.ylabel('População')\n",
    "plt.title('Histograma dos Bits dos aúdios dos áudios (s)')\n",
    "plt.grid(False)\n",
    "plt.show()"
   ]
  },
  {
   "cell_type": "markdown",
   "metadata": {},
   "source": [
    "## Gráfico dos Canais dos aúdios"
   ]
  },
  {
   "cell_type": "code",
   "execution_count": 12,
   "metadata": {},
   "outputs": [
    {
     "data": {
      "image/png": "[encoded data removed]",
      "text/plain": [
       "<Figure size 792x504 with 1 Axes>"
      ]
     },
     "metadata": {
      "needs_background": "light"
     },
     "output_type": "display_data"
    }
   ],
   "source": [
    "plt.hist(metadata_path['Channels'], rwidth=0.9, color='#FF0000')\n",
    "plt.rcParams['figure.figsize'] = (11,7)\n",
    "plt.xlabel('Canais')\n",
    "plt.ylabel('População')\n",
    "plt.title('Histograma dos canais dos aúdios dos áudios (s)')\n",
    "plt.grid(False)\n",
    "plt.show()"
   ]
  },
  {
   "cell_type": "markdown",
   "metadata": {},
   "source": [
    "## Gráfico das Classes dos aúdios"
   ]
  },
  {
   "cell_type": "code",
   "execution_count": 16,
   "metadata": {},
   "outputs": [
    {
     "data": {
      "image/png": "[encoded data removed]",
      "text/plain": [
       "<Figure size 792x504 with 1 Axes>"
      ]
     },
     "metadata": {
      "needs_background": "light"
     },
     "output_type": "display_data"
    }
   ],
   "source": [
    "plt.hist(metadata_path['Class'])\n",
    "plt.rcParams['figure.figsize'] = (11,7)\n",
    "plt.xlabel('Classes')\n",
    "plt.xticks(rotation=90)\n",
    "plt.ylabel('População')\n",
    "plt.title('Histograma dos Classes dos aúdios dos áudios (s)')\n",
    "plt.grid(False)\n",
    "plt.show()"
   ]
  },
  {
   "cell_type": "markdown",
   "metadata": {},
   "source": [
    "# Quantidade de aúdios por classe"
   ]
  },
  {
   "cell_type": "code",
   "execution_count": 14,
   "metadata": {},
   "outputs": [
    {
     "name": "stdout",
     "output_type": "stream",
     "text": [
      "               Class\n",
      "Waltz            529\n",
      "Foxtrot          507\n",
      "Quickstep        497\n",
      "Rumba            470\n",
      "Samba            468\n",
      "Tango            464\n",
      "Chacha           455\n",
      "Jive             350\n",
      "Viennesewaltz    252\n",
      "Slowwaltz         65\n",
      "Pasodoble         53\n",
      "Salsa             47\n",
      "Wcswing           23\n"
     ]
    }
   ],
   "source": [
    "print(metadata_path['Class'].value_counts().to_frame())"
   ]
  },
  {
   "cell_type": "code",
   "execution_count": null,
   "metadata": {},
   "outputs": [],
   "source": []
  }
 ],
 "metadata": {
  "colab": {
   "collapsed_sections": [],
   "name": "classes_de_TEIA.ipynb",
   "provenance": []
  },
  "kernelspec": {
   "display_name": "Python 3",
   "language": "python",
   "name": "python3"
  },
  "language_info": {
   "codemirror_mode": {
    "name": "ipython",
    "version": 3
   },
   "file_extension": ".py",
   "mimetype": "text/x-python",
   "name": "python",
   "nbconvert_exporter": "python",
   "pygments_lexer": "ipython3",
   "version": "3.7.3"
  }
 },
 "nbformat": 4,
 "nbformat_minor": 1
}
